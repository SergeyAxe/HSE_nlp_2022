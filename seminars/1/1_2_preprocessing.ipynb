{
 "cells": [
  {
   "cell_type": "markdown",
   "metadata": {
    "colab_type": "text",
    "id": "qJToNZny8wiJ"
   },
   "source": [
    "<h1><center>Предобработка текста</center></h1>"
   ]
  },
  {
   "cell_type": "markdown",
   "metadata": {
    "colab_type": "text",
    "id": "XIV26DDa8wiK"
   },
   "source": [
    "## Основные техники \n",
    "* Уровень символов:\n",
    "    * Токенизация: разбиение текста на слова\n",
    "    * Разбиение текста на предложения\n",
    "* Уровень слов – морфология:\n",
    "    * Разметка частей речи\n",
    "    * Снятие морфологической неоднозначности\n",
    "    * Нормализация (стемминг или лемматизация)\n",
    "* Уровень предложений – синтаксис:\n",
    "    * Выделенние именных или глагольных групп \n",
    "    * Выделенние семантических ролей\n",
    "    * Деревья составляющих и зависимостей\n",
    "* Уровень смысла – семантика и дискурс:\n",
    "    * Разрешение кореферентных связей\n",
    "    * Выделение синонимов\n",
    "    * Анализ аргументативных связей"
   ]
  },
  {
   "cell_type": "markdown",
   "metadata": {
    "colab_type": "text",
    "id": "_mTIZxh28wiL"
   },
   "source": [
    "## Основные проблемы\n",
    "* Неоднозначность\n",
    "    * Лексическая неоднозначность: *орган, парить, рожки, атлас*\n",
    "    * Морфологическая неоднозначность: *Хранение денег в банке. Что делают белки в клетке?*\n",
    "    * Синтаксическая неоднозначность: *Мужу изменять нельзя. Его удивил простой солдат. Эти типы стали есть в цехе.*\n",
    "* Неологизмы: *печеньки, заинстаграммить, репостнуть, расшарить, биткоины*\n",
    "* Разные варианты написания: *Россия, Российская Федерация, РФ*\n",
    "* Нестандартное написание (в т.ч. орфографические ошибки и опечатки): *каг дила? куптиь телфон*"
   ]
  },
  {
   "cell_type": "markdown",
   "metadata": {},
   "source": [
    "<img src=\"pipeline.png\" alt=\"pipeline.png\" style=\"width: 400px;\"/>"
   ]
  },
  {
   "cell_type": "markdown",
   "metadata": {
    "colab_type": "text",
    "id": "rrMWEuaj8wiM"
   },
   "source": [
    "### NLP-библиотеки\n",
    "\n",
    "NLP-библиотеки для питона:\n",
    "* Natural Language Toolkit (NLTK)\n",
    "* Apache OpenNLP\n",
    "* Stanford NLP suite\n",
    "* Gate NLP library\n",
    "* Spacy\n",
    "* Yargy\n",
    "* DeepPavlov\n",
    "* CLTK (для древних языков)\n",
    "* и т.д.\n",
    "\n",
    "Самая старая и известная — NLTK. В NLTK есть не только различные инструменты для обработки текста, но и данные — текстовые корпуса, предобученные модели для анализа тональности и морфологической разметки, списки стоп-слов для разных языков и т.п.\n",
    "\n",
    "* [Учебник по NLTK](https://www.nltk.org/book/) от авторов библиотеки и [тьюториалы](https://github.com/hb20007/hands-on-nltk-tutorial) по решению разных задач NLP с помощью NLTK.\n",
    "* [Документация Spacy](https://spacy.io/)\n",
    "* [Документация Yargy](https://yargy.readthedocs.io/)\n",
    "* [Документация DeepPavlop](http://docs.deeppavlov.ai/)"
   ]
  },
  {
   "cell_type": "markdown",
   "metadata": {
    "colab_type": "text",
    "id": "gJIhRR2V8wiN"
   },
   "source": [
    "## Предобработка текста\n",
    "\n",
    "1. **Токенизация** — самый первый шаг при обработке текста. \n",
    "2. **Нормализация** — приведение к одному регистру, удаляются пунктуации, исправление опечаток и т.д.\n",
    "3. \n",
    "    * **Стемминг** —  выделение псевдоосновы слова.\n",
    "    * **Лемматизация** — приведение слов к словарной (\"начальной\") форме.\n",
    "4. **Удаление стоп-слов** — слов, которые не несут никакой смысловой нагрузки (предлоги, союзы и т.п.) Список зависит от задачи!\n",
    "\n",
    "**Важно!** Не всегда нужны все этапы, все зависит от задачи!"
   ]
  },
  {
   "cell_type": "markdown",
   "metadata": {
    "colab_type": "text",
    "id": "1uZhZrWq8wiN"
   },
   "source": [
    "## Токенизация\n",
    "\n",
    "#### Сколько слов в этом предложении?\n",
    "\n",
    "*На дворе трава, на траве дрова, не руби дрова на траве двора.*\n",
    "\n",
    "* 12 токенов: На, дворе, трава, на, траве, дрова, не, руби, дрова, на, траве, двора\n",
    "* 8 - 9 словоформ: Н/на, дворе, трава, траве, дрова, не, руби, двора. \n",
    "* 6  лексем: на, не, двор, трава, дрова, рубить\n",
    "\n",
    "\n",
    "### Токен и словоформа\n",
    "\n",
    "**Словоформа**  – уникальное слово из текста\n",
    "\n",
    "**Токен**  – словоформа и её позиция в тексте\n",
    "\n",
    "Объем корпуса измеряется в токенах, объем словаря — в словоформах или лексемах.\n",
    "\n",
    "### Обозначения \n",
    "$N$ = число токенов\n",
    "\n",
    "$V$ = словарь (все словоформы)\n",
    "\n",
    "$|V|$ = количество словоформ в словаре"
   ]
  },
  {
   "cell_type": "markdown",
   "metadata": {
    "colab_type": "text",
    "id": "8I2LG_Bn8wiO"
   },
   "source": [
    "### Токен ≠ слово\n",
    "\n",
    "__Рассмотрим пример:__ \n",
    "\n",
    "    Продаётся LADA 4x4. ПТС 01.12.2018, куплена 20 января 19 года, 10 000 км пробега. Комплектация полная. Новая в салоне 750 000, отдам за 650 000. Возможен обмен на ВАЗ-2110 или ВАЗ 2109 с вашей доплатой.\n",
    "\n",
    "    * Модификация: 1.6 MT (89 л.с.) \n",
    "    * Владельцев по ПТС: 4+ \n",
    "    * VIN или номер кузова: XTA21104*50****47 \n",
    "    * Мультимедиа и навигация: CD/DVD/Blu-ray \n",
    "    * Шины и диски: 14\" \n",
    "\n",
    "    Краснодар, ул. Миклухо-Маклая, д. 4/5, подъезд 1 \n",
    "\n",
    "    Тел. 8(999)1234567, 8 903 987-65-43, +7 (351) 111 22 33 \n",
    "    \n",
    "    e-mail: ivanov.ivan-61@mail.ru \n",
    "    \n",
    "    И.И. Иванов (Иван Иванович) "
   ]
  },
  {
   "cell_type": "code",
   "execution_count": 62,
   "metadata": {
    "colab": {},
    "colab_type": "code",
    "id": "4tMvWqXi8wiO",
    "outputId": "84a46e84-3e81-419c-8795-3f375c457e1c"
   },
   "outputs": [
    {
     "name": "stdout",
     "output_type": "stream",
     "text": [
      "['Продаётся', 'LADA', '4x4.', 'ПТС', '01.12.2018,', 'куплена', '20', 'января', '19', 'года,', '10', '000', 'км', 'пробега.', 'Комплектация', 'полная.', 'Новая', 'в', 'салоне', '750', '000,', 'отдам', 'за', '650', '000.', 'Возможен', 'обмен', 'на', 'ВАЗ-2110', 'или', 'ВАЗ', '2109', 'с', 'вашей', 'доплатой.', 'Краснодар,', 'ул.', 'Миклухо-Маклая,', 'д.', '4/5,', 'подьезд', '1', 'Тел.', '8(999)1234567,', '8', '903', '987-65-43,', '+7', '(351)', '111', '22', '33', 'И.И.', 'Иванов', '(Иван', 'Иванович)']\n"
     ]
    },
    {
     "data": {
      "text/plain": [
       "56"
      ]
     },
     "execution_count": 62,
     "metadata": {},
     "output_type": "execute_result"
    }
   ],
   "source": [
    "# самая банальная токенизация: разбиение по пробелам\n",
    "\n",
    "text = '''\n",
    "Продаётся LADA 4x4. ПТС 01.12.2018, куплена 20 января 19 года, 10 000 км пробега. \n",
    "Комплектация полная. Новая в салоне 750 000, отдам за 650 000. \n",
    "Возможен обмен на ВАЗ-2110 или ВАЗ 2109 с вашей доплатой. \n",
    "Краснодар, ул. Миклухо-Маклая, д. 4/5, подьезд 1 \n",
    "Тел. 8(999)1234567, 8 903 987-65-43, +7 (351) 111 22 33 \n",
    "И.И. Иванов (Иван Иванович) \n",
    "'''\n",
    "\n",
    "tokens = text.split()\n",
    "print(tokens)\n",
    "len(tokens)"
   ]
  },
  {
   "cell_type": "code",
   "execution_count": 63,
   "metadata": {
    "colab": {},
    "colab_type": "code",
    "id": "5s60aVHo8wiU",
    "outputId": "a71a0810-7f90-4be5-e49b-f6335bcdf326"
   },
   "outputs": [],
   "source": [
    "# !pip install --user yargy"
   ]
  },
  {
   "cell_type": "code",
   "execution_count": 64,
   "metadata": {
    "colab": {},
    "colab_type": "code",
    "id": "pTXhiLHv8wiW",
    "outputId": "926c95d0-9ac1-4c3a-cb1c-aa48efa870b8"
   },
   "outputs": [
    {
     "name": "stdout",
     "output_type": "stream",
     "text": [
      "['\\n', 'Продаётся', 'LADA', '4', 'x', '4', '.', 'ПТС', '01', '.', '12', '.', '2018', ',', 'куплена', '20', 'января', '19', 'года', ',', '10', '000', 'км', 'пробега', '.', '\\n', 'Комплектация', 'полная', '.', 'Новая', 'в', 'салоне', '750', '000', ',', 'отдам', 'за', '650', '000', '.', '\\n', 'Возможен', 'обмен', 'на', 'ВАЗ', '-', '2110', 'или', 'ВАЗ', '2109', 'с', 'вашей', 'доплатой', '.', '\\n', 'Краснодар', ',', 'ул', '.', 'Миклухо', '-', 'Маклая', ',', 'д', '.', '4', '/', '5', ',', 'подьезд', '1', '\\n', 'Тел', '.', '8', '(', '999', ')', '1234567', ',', '8', '903', '987', '-', '65', '-', '43', ',', '+', '7', '(', '351', ')', '111', '22', '33', '\\n', 'И', '.', 'И', '.', 'Иванов', '(', 'Иван', 'Иванович', ')', '\\n']\n"
     ]
    },
    {
     "data": {
      "text/plain": [
       "107"
      ]
     },
     "execution_count": 64,
     "metadata": {},
     "output_type": "execute_result"
    }
   ],
   "source": [
    "# максимально разбивает\n",
    "from yargy.tokenizer import MorphTokenizer\n",
    "\n",
    "tknzr = MorphTokenizer()\n",
    "tokens = [_.value for _ in tknzr(text)]\n",
    "print(tokens)\n",
    "len(tokens)"
   ]
  },
  {
   "cell_type": "code",
   "execution_count": 9,
   "metadata": {
    "colab": {},
    "colab_type": "code",
    "id": "EkpDhS6h8wiZ"
   },
   "outputs": [],
   "source": [
    "# !pip install --user nltk"
   ]
  },
  {
   "cell_type": "code",
   "execution_count": 10,
   "metadata": {
    "colab": {},
    "colab_type": "code",
    "id": "4ACxgq8B8wib",
    "outputId": "01b95e08-2569-4b9e-c889-e50417d0ea90"
   },
   "outputs": [
    {
     "name": "stderr",
     "output_type": "stream",
     "text": [
      "[nltk_data] Downloading package stopwords to\n",
      "[nltk_data]     /Users/aksenov/nltk_data...\n",
      "[nltk_data]   Package stopwords is already up-to-date!\n",
      "[nltk_data] Downloading package punkt to /Users/aksenov/nltk_data...\n",
      "[nltk_data]   Package punkt is already up-to-date!\n",
      "[nltk_data] Downloading package snowball_data to\n",
      "[nltk_data]     /Users/aksenov/nltk_data...\n",
      "[nltk_data]   Package snowball_data is already up-to-date!\n",
      "[nltk_data] Downloading package perluniprops to\n",
      "[nltk_data]     /Users/aksenov/nltk_data...\n",
      "[nltk_data]   Package perluniprops is already up-to-date!\n",
      "[nltk_data] Downloading package universal_tagset to\n",
      "[nltk_data]     /Users/aksenov/nltk_data...\n",
      "[nltk_data]   Package universal_tagset is already up-to-date!\n",
      "[nltk_data] Downloading package stopwords to\n",
      "[nltk_data]     /Users/aksenov/nltk_data...\n",
      "[nltk_data]   Package stopwords is already up-to-date!\n",
      "[nltk_data] Downloading package nonbreaking_prefixes to\n",
      "[nltk_data]     /Users/aksenov/nltk_data...\n",
      "[nltk_data]   Package nonbreaking_prefixes is already up-to-date!\n",
      "[nltk_data] Downloading package wordnet to /Users/aksenov/nltk_data...\n",
      "[nltk_data]   Package wordnet is already up-to-date!\n"
     ]
    },
    {
     "data": {
      "text/plain": [
       "True"
      ]
     },
     "execution_count": 10,
     "metadata": {},
     "output_type": "execute_result"
    }
   ],
   "source": [
    "import nltk\n",
    "nltk.download('stopwords')\n",
    "nltk.download('punkt')\n",
    "nltk.download('snowball_data')\n",
    "nltk.download('perluniprops')\n",
    "nltk.download('universal_tagset')\n",
    "nltk.download('stopwords')\n",
    "nltk.download('nonbreaking_prefixes')\n",
    "nltk.download('wordnet')"
   ]
  },
  {
   "cell_type": "code",
   "execution_count": 11,
   "metadata": {
    "colab": {},
    "colab_type": "code",
    "id": "nIEMbLSA8wig",
    "outputId": "ebda2ff4-bb1f-42ba-d598-2ebed1392440"
   },
   "outputs": [
    {
     "name": "stdout",
     "output_type": "stream",
     "text": [
      "['Продаётся', 'LADA', '4x4', '.', 'ПТС', '01.12.2018', ',', 'куплена', '20', 'января', '19', 'года', ',', '10', '000', 'км', 'пробега', '.', 'Комплектация', 'полная', '.', 'Новая', 'в', 'салоне', '750', '000', ',', 'отдам', 'за', '650', '000', '.', 'Возможен', 'обмен', 'на', 'ВАЗ-2110', 'или', 'ВАЗ', '2109', 'с', 'вашей', 'доплатой', '.', 'Краснодар', ',', 'ул', '.', 'Миклухо-Маклая', ',', 'д', '.', '4/5', ',', 'подьезд', '1', 'Тел', '.', '8', '(', '999', ')', '1234567', ',', '8', '903', '987-65-43', ',', '+7', '(', '351', ')', '111', '22', '33', 'И.И', '.', 'Иванов', '(', 'Иван', 'Иванович', ')']\n"
     ]
    },
    {
     "data": {
      "text/plain": [
       "81"
      ]
     },
     "execution_count": 11,
     "metadata": {},
     "output_type": "execute_result"
    }
   ],
   "source": [
    "from nltk.tokenize import word_tokenize, ToktokTokenizer\n",
    "\n",
    "tokens = word_tokenize(text)\n",
    "print(tokens)\n",
    "len(tokens)"
   ]
  },
  {
   "cell_type": "code",
   "execution_count": 12,
   "metadata": {
    "colab": {},
    "colab_type": "code",
    "id": "GxaK7tB_8wii",
    "outputId": "051f5b1d-09fd-4151-9920-d771b4b8d556"
   },
   "outputs": [
    {
     "name": "stdout",
     "output_type": "stream",
     "text": [
      "['Продаётся', 'LADA', '4x4.', 'ПТС', '01.12.2018', ',', 'куплена', '20', 'января', '19', 'года', ',', '10', '000', 'км', 'пробега.', 'Комплектация', 'полная.', 'Новая', 'в', 'салоне', '750', '000', ',', 'отдам', 'за', '650', '000.', 'Возможен', 'обмен', 'на', 'ВАЗ-2110', 'или', 'ВАЗ', '2109', 'с', 'вашей', 'доплатой.', 'Краснодар', ',', 'ул.', 'Миклухо-Маклая', ',', 'д.', '4/5', ',', 'подьезд', '1', 'Тел.', '8(', '999', ')', '1234567', ',', '8', '903', '987-65-43', ',', '+7', '(', '351', ')', '111', '22', '33', 'И.И.', 'Иванов', '(', 'Иван', 'Иванович', ')']\n"
     ]
    },
    {
     "data": {
      "text/plain": [
       "71"
      ]
     },
     "execution_count": 12,
     "metadata": {},
     "output_type": "execute_result"
    }
   ],
   "source": [
    "tknzr = ToktokTokenizer()\n",
    "tokens = tknzr.tokenize(text)\n",
    "print(tokens)\n",
    "len(tokens)"
   ]
  },
  {
   "cell_type": "code",
   "execution_count": 65,
   "metadata": {
    "colab": {},
    "colab_type": "code",
    "id": "Ghlw0kpe8wil",
    "outputId": "f4fb81b4-bdce-4bf5-8716-973adf52e7a2"
   },
   "outputs": [
    {
     "data": {
      "text/plain": [
       "['@remy',\n",
       " 'This',\n",
       " 'is',\n",
       " 'a',\n",
       " 'cooool',\n",
       " '#dummysmiley',\n",
       " ':',\n",
       " ':-)',\n",
       " ':-P',\n",
       " '<3',\n",
       " 'and',\n",
       " 'some',\n",
       " 'arrows',\n",
       " '<',\n",
       " '>',\n",
       " '->',\n",
       " '<--']"
      ]
     },
     "execution_count": 65,
     "metadata": {},
     "output_type": "execute_result"
    }
   ],
   "source": [
    "# специальный токенизатор для твитов\n",
    "from nltk.tokenize import TweetTokenizer\n",
    "\n",
    "tknzr = TweetTokenizer()\n",
    "tweet = \"@remy This is a cooool #dummysmiley: :-) :-P <3 and some arrows < > -> <--\"\n",
    "tknzr.tokenize(tweet)"
   ]
  },
  {
   "cell_type": "code",
   "execution_count": 66,
   "metadata": {
    "colab": {},
    "colab_type": "code",
    "id": "I5CcKw7s8win",
    "outputId": "d46e9ad2-2341-4135-ac0e-247f66bf22b7"
   },
   "outputs": [
    {
     "data": {
      "text/plain": [
       "['Good',\n",
       " 'muffins',\n",
       " 'cost',\n",
       " '$3.88',\n",
       " 'in',\n",
       " 'New',\n",
       " 'York',\n",
       " '.',\n",
       " 'Please',\n",
       " 'buy',\n",
       " 'me',\n",
       " 'two',\n",
       " 'of',\n",
       " 'them',\n",
       " '.',\n",
       " 'Thanks',\n",
       " '.']"
      ]
     },
     "execution_count": 66,
     "metadata": {},
     "output_type": "execute_result"
    }
   ],
   "source": [
    "# токенизатор на регулярных выражениях\n",
    "from nltk.tokenize import RegexpTokenizer\n",
    "\n",
    "s = \"Good muffins cost $3.88 in New York.  Please buy me two of them. \\n\\nThanks.\"\n",
    "tknzr = RegexpTokenizer('\\w+|\\$[\\d\\.]+|\\S+')\n",
    "tknzr.tokenize(s)"
   ]
  },
  {
   "cell_type": "markdown",
   "metadata": {
    "colab_type": "text",
    "id": "A5FKqaxu8wiq"
   },
   "source": [
    "В nltk вообще есть довольно много токенизаторов:"
   ]
  },
  {
   "cell_type": "code",
   "execution_count": 15,
   "metadata": {
    "colab": {},
    "colab_type": "code",
    "id": "jlYxv5xy8wir",
    "outputId": "072605cf-2e9a-48a7-dc0b-e7d259e568f1"
   },
   "outputs": [
    {
     "data": {
      "text/plain": [
       "['BlanklineTokenizer',\n",
       " 'LineTokenizer',\n",
       " 'MWETokenizer',\n",
       " 'PunktSentenceTokenizer',\n",
       " 'RegexpTokenizer',\n",
       " 'ReppTokenizer',\n",
       " 'SExprTokenizer',\n",
       " 'SpaceTokenizer',\n",
       " 'StanfordSegmenter',\n",
       " 'SyllableTokenizer',\n",
       " 'TabTokenizer',\n",
       " 'TextTilingTokenizer',\n",
       " 'ToktokTokenizer',\n",
       " 'TreebankWordTokenizer',\n",
       " 'TweetTokenizer',\n",
       " 'WhitespaceTokenizer']"
      ]
     },
     "execution_count": 15,
     "metadata": {},
     "output_type": "execute_result"
    }
   ],
   "source": [
    "from nltk import tokenize\n",
    "dir(tokenize)[:16]"
   ]
  },
  {
   "cell_type": "markdown",
   "metadata": {
    "colab_type": "text",
    "id": "NZ_3LRZ-8wiw"
   },
   "source": [
    "Они умеют выдавать индексы начала и конца каждого токена:"
   ]
  },
  {
   "cell_type": "code",
   "execution_count": 67,
   "metadata": {
    "colab": {},
    "colab_type": "code",
    "id": "S-Xsd5tN8wix",
    "outputId": "031b2a40-7683-444e-9df6-37e500f60a57"
   },
   "outputs": [
    {
     "data": {
      "text/plain": [
       "[(0, 5), (6, 10), (11, 13)]"
      ]
     },
     "execution_count": 67,
     "metadata": {},
     "output_type": "execute_result"
    }
   ],
   "source": [
    "wh_tok = tokenize.WhitespaceTokenizer()\n",
    "list(wh_tok.span_tokenize(\"don't stop me\"))"
   ]
  },
  {
   "cell_type": "markdown",
   "metadata": {
    "colab_type": "text",
    "id": "6VxmL3st8wiz"
   },
   "source": [
    "Некторые токенизаторы ведут себя специфично:"
   ]
  },
  {
   "cell_type": "code",
   "execution_count": 68,
   "metadata": {
    "colab": {},
    "colab_type": "code",
    "id": "DbbJHhuT8wi0",
    "outputId": "2e69572a-8b16-4a90-f47d-78b5734f3c76"
   },
   "outputs": [
    {
     "data": {
      "text/plain": [
       "['do', \"n't\", 'stop', 'me']"
      ]
     },
     "execution_count": 68,
     "metadata": {},
     "output_type": "execute_result"
    }
   ],
   "source": [
    "tokenize.TreebankWordTokenizer().tokenize(\"don't stop me\")"
   ]
  },
  {
   "cell_type": "markdown",
   "metadata": {
    "colab_type": "text",
    "id": "X0qzdWqY8wi2"
   },
   "source": [
    "## Сегментация предложений\n",
    "\n",
    "Сегментацию предложений иногда называют **сплиттингом**. \n",
    "\n",
    "Основные признаки — знаки препинания. \"?\", \"!\" как правило однозначны, проблемы возникают с \".\"  Возможное решение: бинарный классификатор для сегментации предложений. Для каждой точки \".\" определить, является ли она концом предложения или нет.\n"
   ]
  },
  {
   "cell_type": "code",
   "execution_count": 70,
   "metadata": {
    "colab": {},
    "colab_type": "code",
    "id": "RX2VhQT78wi2",
    "outputId": "3da92d9d-6bec-4eb8-f4c8-19520d1932e4"
   },
   "outputs": [
    {
     "name": "stdout",
     "output_type": "stream",
     "text": [
      "10\n"
     ]
    },
    {
     "data": {
      "text/plain": [
       "['\\nПродаётся LADA 4x4.',\n",
       " 'ПТС 01.12.2018, куплена 20 января 19 года, 10 000 км пробега.',\n",
       " 'Комплектация полная.',\n",
       " 'Новая в салоне 750 000, отдам за 650 000.',\n",
       " 'Возможен обмен на ВАЗ-2110 или ВАЗ 2109 с вашей доплатой.',\n",
       " 'Краснодар, ул.',\n",
       " 'Миклухо-Маклая, д.',\n",
       " '4/5, подьезд 1 \\nТел.',\n",
       " '8(999)1234567, 8 903 987-65-43, +7 (351) 111 22 33 \\nИ.И.',\n",
       " 'Иванов (Иван Иванович)']"
      ]
     },
     "execution_count": 70,
     "metadata": {},
     "output_type": "execute_result"
    }
   ],
   "source": [
    "from nltk.tokenize import sent_tokenize\n",
    "\n",
    "sents = sent_tokenize(text)\n",
    "print(len(sents))\n",
    "sents"
   ]
  },
  {
   "cell_type": "code",
   "execution_count": 71,
   "metadata": {
    "colab": {},
    "colab_type": "code",
    "id": "XSJTZsd-8wi4",
    "outputId": "68a7f22f-b6bf-4241-ea17-7289add73af4"
   },
   "outputs": [],
   "source": [
    "# !pip install --user rusenttokenize"
   ]
  },
  {
   "cell_type": "code",
   "execution_count": 20,
   "metadata": {
    "colab": {},
    "colab_type": "code",
    "id": "ZARTC-iN8wi7",
    "outputId": "4050d608-f371-4d6c-fcb2-09af0d6cbff4"
   },
   "outputs": [
    {
     "name": "stdout",
     "output_type": "stream",
     "text": [
      "6\n"
     ]
    },
    {
     "data": {
      "text/plain": [
       "['Продаётся LADA 4x4.',\n",
       " 'ПТС 01.12.2018, куплена 20 января 19 года, 10 000 км пробега.',\n",
       " 'Комплектация полная.',\n",
       " 'Новая в салоне 750 000, отдам за 650 000.',\n",
       " 'Возможен обмен на ВАЗ-2110 или ВАЗ 2109 с вашей доплатой.',\n",
       " 'Краснодар, ул. Миклухо-Маклая, д. 4/5, подьезд 1 \\nТел. 8(999)1234567, 8 903 987-65-43, +7 (351) 111 22 33 \\nИ.И. Иванов (Иван Иванович)']"
      ]
     },
     "execution_count": 20,
     "metadata": {},
     "output_type": "execute_result"
    }
   ],
   "source": [
    "from rusenttokenize import ru_sent_tokenize\n",
    "sents = ru_sent_tokenize(text)\n",
    "\n",
    "print(len(sents))\n",
    "sents"
   ]
  },
  {
   "cell_type": "markdown",
   "metadata": {
    "colab_type": "text",
    "id": "ixKIivkm8wi-"
   },
   "source": [
    "## Нормализация\n",
    "\n",
    "### Удаление пунктуации"
   ]
  },
  {
   "cell_type": "code",
   "execution_count": 21,
   "metadata": {
    "colab": {},
    "colab_type": "code",
    "id": "h6E8o9W_8wi_",
    "outputId": "554fa4f4-fb52-4ded-e1d4-c416ffe9c42a"
   },
   "outputs": [
    {
     "name": "stdout",
     "output_type": "stream",
     "text": [
      "['Продаётся', 'LADA', '4x4.', 'ПТС', '01.12.2018,', 'куплена', '20', 'января', '19', 'года,', '10', '000', 'км', 'пробега.', 'Комплектация', 'полная.', 'Новая', 'в', 'салоне', '750', '000,', 'отдам', 'за', '650', '000.', 'Возможен', 'обмен', 'на', 'ВАЗ-2110', 'или', 'ВАЗ', '2109', 'с', 'вашей', 'доплатой.', 'Краснодар,', 'ул.', 'Миклухо-Маклая,', 'д.', '4/5,', 'подьезд', '1', 'Тел.', '8(999)1234567,', '8', '903', '987-65-43,', '+7', '(351)', '111', '22', '33', 'И.И.', 'Иванов', '(Иван', 'Иванович)']\n",
      "['Продаётся', 'LADA', '4x4', '', 'ПТС', '01.12.2018', '', 'куплена', '20', 'января', '19', 'года', '', '10', '000', 'км', 'пробега', '', 'Комплектация', 'полная', '', 'Новая', 'в', 'салоне', '750', '000', '', 'отдам', 'за', '650', '000', '', 'Возможен', 'обмен', 'на', 'ВАЗ-2110', 'или', 'ВАЗ', '2109', 'с', 'вашей', 'доплатой', '', 'Краснодар', '', 'ул', '', 'Миклухо-Маклая', '', 'д', '', '4/5', '', 'подьезд', '1', 'Тел', '', '8', '', '999', '', '1234567', '', '8', '903', '987-65-43', '', '7', '', '351', '', '111', '22', '33', 'И.И', '', 'Иванов', '', 'Иван', 'Иванович', '']\n"
     ]
    },
    {
     "data": {
      "text/plain": [
       "False"
      ]
     },
     "execution_count": 21,
     "metadata": {},
     "output_type": "execute_result"
    }
   ],
   "source": [
    "# Способ №1\n",
    "import re\n",
    "\n",
    "# набор пунктуационных символов зависит от задачи и текста\n",
    "punct = '!\"#$%&()*\\+,-\\./:;<=>?@\\[\\]^_`{|}~„“«»†*\\—/\\-‘’'\n",
    "clean_text = re.sub(punct, r'', text)\n",
    "print(clean_text.split())\n",
    "\n",
    "# Способ №2\n",
    "clean_words = [w.strip(punct) for w in word_tokenize(text)]\n",
    "print(clean_words)\n",
    "\n",
    "clean_words == clean_text"
   ]
  },
  {
   "cell_type": "markdown",
   "metadata": {
    "colab_type": "text",
    "id": "rSSeJddy8wjC"
   },
   "source": [
    "### Преобразование регистра"
   ]
  },
  {
   "cell_type": "code",
   "execution_count": 22,
   "metadata": {
    "colab": {},
    "colab_type": "code",
    "id": "4fyovObi8wjD",
    "outputId": "06b20a69-3a76-4985-9a1f-bc8a8e896999"
   },
   "outputs": [
    {
     "name": "stdout",
     "output_type": "stream",
     "text": [
      "['продаётся', 'lada', '4x4', 'птс', '01.12.2018', 'куплена', '20', 'января', '19', 'года', '10', '000', 'км', 'пробега', 'комплектация', 'полная', 'новая', 'в', 'салоне', '750', '000', 'отдам', 'за', '650', '000', 'возможен', 'обмен', 'на', 'ваз-2110', 'или', 'ваз', '2109', 'с', 'вашей', 'доплатой', 'краснодар', 'ул', 'миклухо-маклая', 'д', '4/5', 'подьезд', '1', 'тел', '8', '999', '1234567', '8', '903', '987-65-43', '7', '351', '111', '22', '33', 'и.и', 'иванов', 'иван', 'иванович']\n"
     ]
    }
   ],
   "source": [
    "clean_words = [w.lower() for w in clean_words if w != '']\n",
    "print(clean_words)"
   ]
  },
  {
   "cell_type": "markdown",
   "metadata": {
    "colab_type": "text",
    "id": "LKNDrwDQ8wjH"
   },
   "source": [
    "### Стоп-слова\n",
    "\n",
    "**Стоп-слова** — высокочастотные слова, которые не дают нам никакой информации о конкретном тексте. Они составляют верхушку частотного списка в любом языке. Набор стоп-слов не универсален, он будет зависеть от вашей задачи!\n",
    "\n",
    "В NLTK есть готовые списки стоп-слов для многих языков."
   ]
  },
  {
   "cell_type": "code",
   "execution_count": 23,
   "metadata": {
    "colab": {},
    "colab_type": "code",
    "id": "42F9WthB8wjI",
    "outputId": "cb73e3a8-dfe4-4e34-f487-9e8dd0c1c5fa"
   },
   "outputs": [
    {
     "data": {
      "text/plain": [
       "['arabic',\n",
       " 'azerbaijani',\n",
       " 'basque',\n",
       " 'bengali',\n",
       " 'catalan',\n",
       " 'chinese',\n",
       " 'danish',\n",
       " 'dutch',\n",
       " 'english',\n",
       " 'finnish',\n",
       " 'french',\n",
       " 'german',\n",
       " 'greek',\n",
       " 'hebrew',\n",
       " 'hinglish',\n",
       " 'hungarian',\n",
       " 'indonesian',\n",
       " 'italian',\n",
       " 'kazakh',\n",
       " 'nepali',\n",
       " 'norwegian',\n",
       " 'portuguese',\n",
       " 'romanian',\n",
       " 'russian',\n",
       " 'slovene',\n",
       " 'spanish',\n",
       " 'swedish',\n",
       " 'tajik',\n",
       " 'turkish']"
      ]
     },
     "execution_count": 23,
     "metadata": {},
     "output_type": "execute_result"
    }
   ],
   "source": [
    "from nltk.corpus import stopwords\n",
    "\n",
    "# смотрим, какие языки есть\n",
    "stopwords.fileids()"
   ]
  },
  {
   "cell_type": "code",
   "execution_count": 24,
   "metadata": {
    "colab": {},
    "colab_type": "code",
    "id": "N-GBMG498wjK",
    "outputId": "f2ceb7f3-e74f-42c4-db6e-35f421cadf78"
   },
   "outputs": [
    {
     "name": "stdout",
     "output_type": "stream",
     "text": [
      "['и', 'в', 'во', 'не', 'что', 'он', 'на', 'я', 'с', 'со', 'как', 'а', 'то', 'все', 'она', 'так', 'его', 'но', 'да', 'ты', 'к', 'у', 'же', 'вы', 'за', 'бы', 'по', 'только', 'ее', 'мне', 'было', 'вот', 'от', 'меня', 'еще', 'нет', 'о', 'из', 'ему', 'теперь', 'когда', 'даже', 'ну', 'вдруг', 'ли', 'если', 'уже', 'или', 'ни', 'быть', 'был', 'него', 'до', 'вас', 'нибудь', 'опять', 'уж', 'вам', 'ведь', 'там', 'потом', 'себя', 'ничего', 'ей', 'может', 'они', 'тут', 'где', 'есть', 'надо', 'ней', 'для', 'мы', 'тебя', 'их', 'чем', 'была', 'сам', 'чтоб', 'без', 'будто', 'чего', 'раз', 'тоже', 'себе', 'под', 'будет', 'ж', 'тогда', 'кто', 'этот', 'того', 'потому', 'этого', 'какой', 'совсем', 'ним', 'здесь', 'этом', 'один', 'почти', 'мой', 'тем', 'чтобы', 'нее', 'сейчас', 'были', 'куда', 'зачем', 'всех', 'никогда', 'можно', 'при', 'наконец', 'два', 'об', 'другой', 'хоть', 'после', 'над', 'больше', 'тот', 'через', 'эти', 'нас', 'про', 'всего', 'них', 'какая', 'много', 'разве', 'три', 'эту', 'моя', 'впрочем', 'хорошо', 'свою', 'этой', 'перед', 'иногда', 'лучше', 'чуть', 'том', 'нельзя', 'такой', 'им', 'более', 'всегда', 'конечно', 'всю', 'между']\n"
     ]
    }
   ],
   "source": [
    "sw = stopwords.words('russian')\n",
    "print(sw)"
   ]
  },
  {
   "cell_type": "code",
   "execution_count": 25,
   "metadata": {
    "colab": {},
    "colab_type": "code",
    "id": "PY6slf1G8wjM",
    "outputId": "81a46505-35e3-44d2-b301-71a8b810cae2"
   },
   "outputs": [
    {
     "name": "stdout",
     "output_type": "stream",
     "text": [
      "в\n",
      "за\n",
      "на\n",
      "или\n",
      "с\n",
      "['продаётся', 'lada', '4x4', 'птс', '01.12.2018', 'куплена', '20', 'января', '19', 'года', '10', '000', 'км', 'пробега', 'комплектация', 'полная', 'новая', None, 'салоне', '750', '000', 'отдам', None, '650', '000', 'возможен', 'обмен', None, 'ваз-2110', None, 'ваз', '2109', None, 'вашей', 'доплатой', 'краснодар', 'ул', 'миклухо-маклая', 'д', '4/5', 'подьезд', '1', 'тел', '8', '999', '1234567', '8', '903', '987-65-43', '7', '351', '111', '22', '33', 'и.и', 'иванов', 'иван', 'иванович']\n"
     ]
    }
   ],
   "source": [
    "print([w if w not in sw else print(w) for w in clean_words])"
   ]
  },
  {
   "cell_type": "markdown",
   "metadata": {
    "colab_type": "text",
    "id": "JiMMLtZp8wjN"
   },
   "source": [
    "## Стемминг\n",
    "\n",
    "**Стемминг** — отсечение от слова окончаний и суффиксов, чтобы оставшаяся часть, называемая stem, была одинаковой для всех грамматических форм слова. Стем необязательно совпадает с морфлогической основой слова. Одинаковый стем может получиться и не у однокоренных слов и наоборот — в этом проблема стемминга. \n",
    "\n",
    "* 1-ый вид ошибки: белый, белка, белье $\\implies$  бел\n",
    "\n",
    "* 2-ой вид ошибки: трудность, трудный $\\implies$  трудност, труд \n",
    "\n",
    "* 3-ий вид ошибки: быстрый, быстрее $\\implies$  быст, побыстрее $\\implies$  побыст\n",
    "\n",
    "Самый простой алгоритм, алгоритм Портера, состоит из 5 циклов команд, на каждом цикле – операция удаления / замены суффикса. Возможны вероятностные расширения алгоритма.\n",
    "\n",
    "### Snowball stemmer\n",
    "Улучшенный вариант стеммера Портера; в отличие от него умеет работать не только с английским текстом."
   ]
  },
  {
   "cell_type": "code",
   "execution_count": 26,
   "metadata": {
    "colab": {},
    "colab_type": "code",
    "id": "F7ni6c5T8wjO",
    "outputId": "77fd8762-e949-4d29-857c-70acd4e785bc"
   },
   "outputs": [
    {
     "data": {
      "text/plain": [
       "('arabic',\n",
       " 'danish',\n",
       " 'dutch',\n",
       " 'english',\n",
       " 'finnish',\n",
       " 'french',\n",
       " 'german',\n",
       " 'hungarian',\n",
       " 'italian',\n",
       " 'norwegian',\n",
       " 'porter',\n",
       " 'portuguese',\n",
       " 'romanian',\n",
       " 'russian',\n",
       " 'spanish',\n",
       " 'swedish')"
      ]
     },
     "execution_count": 26,
     "metadata": {},
     "output_type": "execute_result"
    }
   ],
   "source": [
    "from nltk.stem.snowball import SnowballStemmer\n",
    "\n",
    "SnowballStemmer.languages  "
   ]
  },
  {
   "cell_type": "code",
   "execution_count": 27,
   "metadata": {
    "colab": {},
    "colab_type": "code",
    "id": "BbnbMdNm8wjQ"
   },
   "outputs": [],
   "source": [
    "poem = '''\n",
    "По морям, играя, носится\n",
    "с миноносцем миноносица.\n",
    "Льнет, как будто к меду осочка,\n",
    "к миноносцу миноносочка.\n",
    "И конца б не довелось ему,\n",
    "благодушью миноносьему.\n",
    "Вдруг прожектор, вздев на нос очки,\n",
    "впился в спину миноносочки.\n",
    "Как взревет медноголосина:\n",
    "Р-р-р-астакая миноносина!\n",
    "'''\n",
    "\n",
    "words = [w.strip(punct).lower() for w in word_tokenize(poem)]\n",
    "words = [w for w in words if w not in sw and w != '']"
   ]
  },
  {
   "cell_type": "code",
   "execution_count": 28,
   "metadata": {
    "colab": {},
    "colab_type": "code",
    "id": "mrtC521I8wjW",
    "outputId": "d83af65c-48b5-4c9a-d1c2-8335b9d0ffbf"
   },
   "outputs": [
    {
     "name": "stdout",
     "output_type": "stream",
     "text": [
      "морям: мор\n",
      "играя: игр\n",
      "носится: нос\n",
      "миноносцем: миноносц\n",
      "миноносица: миноносиц\n",
      "льнет: льнет\n",
      "меду: мед\n",
      "осочка: осочк\n",
      "миноносцу: миноносц\n",
      "миноносочка: миноносочк\n",
      "конца: конц\n",
      "б: б\n",
      "довелось: довел\n",
      "благодушью: благодуш\n",
      "миноносьему: минонос\n",
      "прожектор: прожектор\n",
      "вздев: вздев\n",
      "нос: нос\n",
      "очки: очк\n",
      "впился: впил\n",
      "спину: спин\n",
      "миноносочки: миноносочк\n",
      "взревет: взревет\n",
      "медноголосина: медноголосин\n",
      "р-р-р-астакая: р-р-р-астак\n",
      "миноносина: миноносин\n"
     ]
    }
   ],
   "source": [
    "snowball = SnowballStemmer(\"russian\")\n",
    "\n",
    "for w in words:\n",
    "    print(\"%s: %s\" % (w, snowball.stem(w)))"
   ]
  },
  {
   "cell_type": "markdown",
   "metadata": {
    "colab_type": "text",
    "id": "eREMBHVY8wjY"
   },
   "source": [
    "## Морфологический анализ\n",
    "\n",
    "Задачи морфологического анализа:\n",
    "\n",
    "* Разбор слова — определение нормальной формы (леммы), основы (стема) и грамматических характеристик слова\n",
    "* Синтез словоформы — генерация словоформы по заданным грамматическим характеристикам из леммы\n",
    "\n",
    "Морфологический анализ — не самая сильная сторона NLTK.  Для этих задач лучше использовать `pymorphy2` и `pymystem3` для русского языка и, например, `Spacy` для европейских.\n",
    "\n",
    "## Лемматизация\n",
    "\n",
    "**Лемматизация** — процесс приведения словоформы к лемме, т.е. нормальной (словарной) форме. Это более сложная задача, чем стемминг, но и результаты дает гораздо более осмысленные, особенно для языков с богатой морфологией.\n",
    "\n",
    "* кошке, кошку, кошкам, кошкой $\\implies$ кошка\n",
    "* бежал, бежит, бегу $\\implies$  бежать\n",
    "* белому, белым, белыми $\\implies$ белый\n",
    "\n",
    "## POS-tagging\n",
    "\n",
    "**Частеречная разметка**, или **POS-tagging** _(part of speech tagging)_ —  определение части речи и грамматических характеристик слов в тексте (корпусе) с приписыванием им соответствующих тегов.\n",
    "\n",
    "Для большинства слов возможно несколько разборов (т.е. несколько разных лемм, несколько разных частей речи и т.п.). Теггер генерирует  все варианты, ранжирует их по вероятности и по умолчанию выдает наиболее вероятный. Выбор одного разбора из нескольких называется **снятием омонимии**, или **дизамбигуацией**.\n",
    "\n",
    "### Наборы тегов\n",
    "\n",
    "Существует множество наборов грамматических тегов, или тегсетов:\n",
    "* НКРЯ\n",
    "* Mystem\n",
    "* UPenn\n",
    "* OpenCorpora (его использует pymorphy2)\n",
    "* Universal Dependencies\n",
    "* ...\n",
    "\n",
    "Есть даже [библиотека](https://github.com/kmike/russian-tagsets) для преобразования тегов из одной системы в другую для русского языка, `russian-tagsets`. Но важно помнить, что любое такое преобразование будет с потерями! \n",
    "\n",
    "На данный момент стандартом является **Universal Dependencies**. Подробнее про проект можно почитать [вот тут](http://universaldependencies.org/), а про теги — [вот тут](http://universaldependencies.org/u/pos/). Вот список основных (частереных) тегов UD:\n",
    "\n",
    "* ADJ: adjective\n",
    "* ADP: adposition\n",
    "* ADV: adverb\n",
    "* AUX: auxiliary\n",
    "* CCONJ: coordinating conjunction\n",
    "* DET: determiner\n",
    "* INTJ: interjection\n",
    "* NOUN: noun\n",
    "* NUM: numeral\n",
    "* PART: particle\n",
    "* PRON: pronoun\n",
    "* PROPN: proper noun\n",
    "* PUNCT: punctuation\n",
    "* SCONJ: subordinating conjunction\n",
    "* SYM: symbol\n",
    "* VERB: verb\n",
    "* X: other\n",
    "\n",
    "### pymystem3\n",
    "\n",
    "**pymystem3** — это питоновская обертка для морфологичекого анализатора Mystem, сделанного в Яндексе. Его можно скачать отдельно и использовать из консоли. Отдельный плюс Mystem - он умеет разрешать омонимию (выбирает более релевантный вариант разбора слова для данного контекста).\n",
    "\n",
    "* [Документация Mystem](https://tech.yandex.ru/mystem/doc/index-docpage/)\n",
    "* [Документация pymystem3](http://pythonhosted.org/pymystem3/)\n",
    "\n",
    "Инициализируем Mystem c дефолтными параметрами. А вообще параметры есть такие:\n",
    "* mystem_bin - путь к `mystem`, если их несколько\n",
    "* grammar_info - нужна ли грамматическая информация или только леммы (по дефолту нужна)\n",
    "* disambiguation - нужно ли снятие омонимии - дизамбигуация (по дефолту нужна)\n",
    "* entire_input - нужно ли сохранять в выводе все (пробелы всякие, например), или можно выкинуть (по дефолту оставляется все)\n",
    "\n",
    "Методы Mystem принимают строку, токенизатор вшит внутри. Можно, конечно, и пословно анализировать, но тогда он не сможет учитывать контекст."
   ]
  },
  {
   "cell_type": "code",
   "execution_count": 29,
   "metadata": {
    "colab": {},
    "colab_type": "code",
    "id": "IClsgWM58wjY"
   },
   "outputs": [],
   "source": [
    "# ! pip install --user pymystem3"
   ]
  },
  {
   "cell_type": "code",
   "execution_count": 30,
   "metadata": {
    "colab": {},
    "colab_type": "code",
    "id": "Jm48dgcB8wja",
    "outputId": "2c56f6d6-b8a4-46ec-a7c3-e202728ff39e"
   },
   "outputs": [
    {
     "name": "stdout",
     "output_type": "stream",
     "text": [
      "['море', ' ', 'играть', ' ', 'носиться', ' ', 'миноносец', ' ', 'миноносица', ' ', 'льнуть', ' ', 'мед', ' ', 'осочка', ' ', 'миноносец', ' ', 'миноносочек', ' ', 'конец', ' ', 'б', ' ', 'доводиться', ' ', 'благодушие', ' ', 'миноносий', ' ', 'прожектор', ' ', 'вздевать', ' ', 'нос', ' ', 'очки', ' ', 'впиваться', ' ', 'спина', ' ', 'миноносочек', ' ', 'взреветь', ' ', 'медноголосина', ' ', 'р', '-', 'р', '-', 'р', '-', 'астакать', ' ', 'миноносина', '\\n']\n"
     ]
    }
   ],
   "source": [
    "from pymystem3 import Mystem\n",
    "\n",
    "m = Mystem()\n",
    "lemmas = m.lemmatize(' '.join(words))\n",
    "print(lemmas)"
   ]
  },
  {
   "cell_type": "code",
   "execution_count": 31,
   "metadata": {
    "colab": {},
    "colab_type": "code",
    "id": "04rPVaGg8wjd",
    "outputId": "5122f269-d85f-45b8-bcd3-b3b69b081ba0"
   },
   "outputs": [
    {
     "data": {
      "text/plain": [
       "[{'text': '\\n'},\n",
       " {'analysis': [{'lex': 'по', 'wt': 1, 'gr': 'PR='}], 'text': 'По'},\n",
       " {'text': ' '},\n",
       " {'analysis': [{'lex': 'море', 'wt': 1, 'gr': 'S,сред,неод=дат,мн'}],\n",
       "  'text': 'морям'},\n",
       " {'text': ', '},\n",
       " {'analysis': [{'lex': 'играть', 'wt': 1, 'gr': 'V,несов,пе=непрош,деепр'}],\n",
       "  'text': 'играя'},\n",
       " {'text': ', '},\n",
       " {'analysis': [{'lex': 'носиться',\n",
       "    'wt': 1,\n",
       "    'gr': 'V,несов,нп=непрош,ед,изъяв,3-л'}],\n",
       "  'text': 'носится'},\n",
       " {'text': '\\n'},\n",
       " {'analysis': [{'lex': 'с', 'wt': 0.999977831, 'gr': 'PR='}], 'text': 'с'}]"
      ]
     },
     "execution_count": 31,
     "metadata": {},
     "output_type": "execute_result"
    }
   ],
   "source": [
    "parsed = m.analyze(poem)\n",
    "parsed[:10]"
   ]
  },
  {
   "cell_type": "code",
   "execution_count": 32,
   "metadata": {
    "colab": {},
    "colab_type": "code",
    "id": "XMf3iMoe8wjf",
    "outputId": "67a71938-9b6a-4888-c167-32cb2c1a52a8"
   },
   "outputs": [
    {
     "name": "stdout",
     "output_type": "stream",
     "text": [
      "По PR\n",
      "морям S\n",
      "играя V\n",
      "носится V\n",
      "с PR\n",
      "миноносцем S\n",
      "миноносица S\n",
      "Льнет V\n",
      "как ADVPRO\n"
     ]
    }
   ],
   "source": [
    "# как достать части речи\n",
    "\n",
    "for word in parsed[:20]:\n",
    "    if 'analysis' in word:\n",
    "        gr = word['analysis'][0]['gr']\n",
    "        pos = gr.split('=')[0].split(',')[0]\n",
    "        print(word['text'], pos)"
   ]
  },
  {
   "cell_type": "markdown",
   "metadata": {
    "colab_type": "text",
    "id": "GTJsMuTX8wjh"
   },
   "source": [
    "###  pymorphy2\n",
    "\n",
    "**pymorphy2** — это полноценный морфологический анализатор, целиком написанный на Python. В отличие от Mystem, он не учитывает контекст, а значит, вопрос разрешения омонимии надо будет решать нам самим (об этом ниже). Он также умеет ставить слова в нужную форму (спрягать и склонять). \n",
    "\n",
    "[Документация pymorphy2](https://pymorphy2.readthedocs.io/en/latest/)"
   ]
  },
  {
   "cell_type": "code",
   "execution_count": 33,
   "metadata": {
    "colab": {},
    "colab_type": "code",
    "id": "0fGOCBpL8wji"
   },
   "outputs": [],
   "source": [
    "# ! pip install --user pymorphy2"
   ]
  },
  {
   "cell_type": "code",
   "execution_count": 44,
   "metadata": {
    "colab": {},
    "colab_type": "code",
    "id": "pxFHvLVx8wjm",
    "outputId": "4ff64967-8700-4690-b8e2-ebe62d12a418"
   },
   "outputs": [
    {
     "data": {
      "text/plain": [
       "[Parse(word='стали', tag=OpencorporaTag('VERB,perf,intr plur,past,indc'), normal_form='стать', score=0.984662, methods_stack=((<DictionaryAnalyzer>, 'стали', 904, 4),)),\n",
       " Parse(word='стали', tag=OpencorporaTag('NOUN,inan,femn sing,gent'), normal_form='сталь', score=0.003067, methods_stack=((<DictionaryAnalyzer>, 'стали', 13, 1),)),\n",
       " Parse(word='стали', tag=OpencorporaTag('NOUN,inan,femn sing,datv'), normal_form='сталь', score=0.003067, methods_stack=((<DictionaryAnalyzer>, 'стали', 13, 2),)),\n",
       " Parse(word='стали', tag=OpencorporaTag('NOUN,inan,femn sing,loct'), normal_form='сталь', score=0.003067, methods_stack=((<DictionaryAnalyzer>, 'стали', 13, 5),)),\n",
       " Parse(word='стали', tag=OpencorporaTag('NOUN,inan,femn plur,nomn'), normal_form='сталь', score=0.003067, methods_stack=((<DictionaryAnalyzer>, 'стали', 13, 6),)),\n",
       " Parse(word='стали', tag=OpencorporaTag('NOUN,inan,femn plur,accs'), normal_form='сталь', score=0.003067, methods_stack=((<DictionaryAnalyzer>, 'стали', 13, 9),))]"
      ]
     },
     "execution_count": 44,
     "metadata": {},
     "output_type": "execute_result"
    }
   ],
   "source": [
    "\n",
    "from pymorphy2 import MorphAnalyzer\n",
    "\n",
    "morph = MorphAnalyzer()\n",
    "p = morph.parse('стали')\n",
    "p"
   ]
  },
  {
   "cell_type": "code",
   "execution_count": 35,
   "metadata": {
    "colab": {},
    "colab_type": "code",
    "id": "WGfkuMnT8wjo",
    "outputId": "f8b55225-f9d7-48bf-e62b-87ea03b3dedc"
   },
   "outputs": [
    {
     "name": "stdout",
     "output_type": "stream",
     "text": [
      "Слово: стали\n",
      "Тэг: VERB,perf,intr plur,past,indc\n",
      "Лемма: стать\n",
      "Вероятность: 0.984662\n"
     ]
    }
   ],
   "source": [
    "first = p[0]  # первый разбор\n",
    "print('Слово:', first.word)\n",
    "print('Тэг:', first.tag)\n",
    "print('Лемма:', first.normal_form)\n",
    "print('Вероятность:', first.score)"
   ]
  },
  {
   "cell_type": "markdown",
   "metadata": {
    "colab_type": "text",
    "id": "c_vXOl2G8wjq"
   },
   "source": [
    "Из каждого тега можно достать более дробную информацию. Если граммема есть в разборе, то вернется ее значение, если ее нет, то вернется None. [Список граммем](https://pymorphy2.readthedocs.io/en/latest/user/grammemes.html)"
   ]
  },
  {
   "cell_type": "code",
   "execution_count": 36,
   "metadata": {
    "colab": {},
    "colab_type": "code",
    "id": "XfN8Jlav8wjq",
    "outputId": "25c17742-4cf6-4f94-c7a7-ad0547677d92"
   },
   "outputs": [
    {
     "name": "stdout",
     "output_type": "stream",
     "text": [
      "Parse(word='стать', tag=OpencorporaTag('INFN,perf,intr'), normal_form='стать', score=1.0, methods_stack=((<DictionaryAnalyzer>, 'стать', 904, 0),))\n",
      "VERB\n",
      "None\n",
      "perf\n",
      "None\n",
      "None\n",
      "None\n",
      "indc\n",
      "plur\n",
      "None\n",
      "past\n",
      "intr\n",
      "None\n"
     ]
    }
   ],
   "source": [
    "print(first.normalized)        # лемма\n",
    "print(first.tag.POS)           # Part of Speech, часть речи\n",
    "print(first.tag.animacy)       # одушевленность\n",
    "print(first.tag.aspect)        # вид: совершенный или несовершенный\n",
    "print(first.tag.case)          # падеж\n",
    "print(first.tag.gender)        # род (мужской, женский, средний)\n",
    "print(first.tag.involvement)   # включенность говорящего в действие\n",
    "print(first.tag.mood)          # наклонение (повелительное, изъявительное)\n",
    "print(first.tag.number)        # число (единственное, множественное)\n",
    "print(first.tag.person)        # лицо (1, 2, 3)\n",
    "print(first.tag.tense)         # время (настоящее, прошедшее, будущее)\n",
    "print(first.tag.transitivity)  # переходность (переходный, непереходный)\n",
    "print(first.tag.voice)         # залог (действительный, страдательный)"
   ]
  },
  {
   "cell_type": "code",
   "execution_count": 37,
   "metadata": {
    "colab": {},
    "colab_type": "code",
    "id": "FZtVGFG08wjt",
    "outputId": "c28492a8-f725-42c1-bfa3-f69c361600b5"
   },
   "outputs": [
    {
     "name": "stdout",
     "output_type": "stream",
     "text": [
      "Parse(word='стать', tag=OpencorporaTag('INFN,perf,intr'), normal_form='стать', score=1.0, methods_stack=((<DictionaryAnalyzer>, 'стать', 904, 0),))\n",
      "VERB\n",
      "perf\n",
      "None\n"
     ]
    }
   ],
   "source": [
    "print(first.normalized)      \n",
    "print(first.tag.POS)\n",
    "print(first.tag.aspect)\n",
    "print(first.tag.case)"
   ]
  },
  {
   "cell_type": "markdown",
   "metadata": {
    "colab_type": "text",
    "id": "wZA9awaI8wjy"
   },
   "source": [
    "### mystem vs. pymorphy\n",
    "\n",
    "1) Оба они могут работать с незнакомыми словами (out-of-vocabulary words, OOV).\n",
    "\n",
    "2) *Скорость*. Mystem работает невероятно медленно под windows на больших текстах, но очень быстро, елси запускать из консоли в linux / mac os.\n",
    "\n",
    "3) *Снятие омонимии*. Mystem умеет снимать омонимию по контексту (хотя не всегда преуспевает), pymorphy2 берет на вход одно слово и соответственно вообще не умеет дизамбигуировать по контексту:"
   ]
  },
  {
   "cell_type": "code",
   "execution_count": 38,
   "metadata": {
    "colab": {},
    "colab_type": "code",
    "id": "Ot_d8SfS8wjz",
    "outputId": "193e14ea-4c62-4554-9a8b-dfc6633e0348"
   },
   "outputs": [
    {
     "name": "stdout",
     "output_type": "stream",
     "text": [
      "{'analysis': [{'lex': 'сорок', 'wt': 0.8710292664, 'gr': 'NUM=(пр|дат|род|твор)'}], 'text': 'сорока'}\n",
      "{'analysis': [{'lex': 'сорока', 'wt': 0.1210970041, 'gr': 'S,жен,од=им,ед'}], 'text': 'Сорока'}\n"
     ]
    }
   ],
   "source": [
    "homonym1 = 'За время обучения я прослушал больше сорока курсов.'\n",
    "homonym2 = 'Сорока своровала блестящее украшение со стола.'\n",
    "mystem_analyzer = Mystem() # инициализирую объект с дефолтными параметрами\n",
    "\n",
    "print(mystem_analyzer.analyze(homonym1)[-5])\n",
    "print(mystem_analyzer.analyze(homonym2)[0])"
   ]
  },
  {
   "cell_type": "code",
   "execution_count": 39,
   "metadata": {
    "colab": {},
    "colab_type": "code",
    "id": "G-jgHkHi8wj2"
   },
   "outputs": [],
   "source": [
    "p = morph.parse('сорока')"
   ]
  },
  {
   "cell_type": "code",
   "execution_count": 40,
   "metadata": {
    "colab": {},
    "colab_type": "code",
    "id": "Qp_VxYoJ8wj4",
    "outputId": "08219ec5-3143-4862-e6cd-eb979d9a4223"
   },
   "outputs": [
    {
     "data": {
      "text/plain": [
       "[Parse(word='сорока', tag=OpencorporaTag('NUMR loct'), normal_form='сорок', score=0.285714, methods_stack=((<DictionaryAnalyzer>, 'сорока', 2802, 5),)),\n",
       " Parse(word='сорока', tag=OpencorporaTag('NOUN,inan,femn sing,nomn'), normal_form='сорока', score=0.142857, methods_stack=((<DictionaryAnalyzer>, 'сорока', 43, 0),)),\n",
       " Parse(word='сорока', tag=OpencorporaTag('NOUN,anim,femn sing,nomn'), normal_form='сорока', score=0.142857, methods_stack=((<DictionaryAnalyzer>, 'сорока', 403, 0),)),\n",
       " Parse(word='сорока', tag=OpencorporaTag('NUMR gent'), normal_form='сорок', score=0.142857, methods_stack=((<DictionaryAnalyzer>, 'сорока', 2802, 1),)),\n",
       " Parse(word='сорока', tag=OpencorporaTag('NUMR datv'), normal_form='сорок', score=0.142857, methods_stack=((<DictionaryAnalyzer>, 'сорока', 2802, 2),)),\n",
       " Parse(word='сорока', tag=OpencorporaTag('NUMR ablt'), normal_form='сорок', score=0.142857, methods_stack=((<DictionaryAnalyzer>, 'сорока', 2802, 4),))]"
      ]
     },
     "execution_count": 40,
     "metadata": {},
     "output_type": "execute_result"
    }
   ],
   "source": [
    "p"
   ]
  },
  {
   "cell_type": "markdown",
   "metadata": {},
   "source": [
    "### Собираем все вместе:\n",
    "\n",
    "Сделаем стандартную предобработку данных с сайта Lenta.ru"
   ]
  },
  {
   "cell_type": "code",
   "execution_count": 42,
   "metadata": {},
   "outputs": [
    {
     "data": {
      "text/html": [
       "<div>\n",
       "<style scoped>\n",
       "    .dataframe tbody tr th:only-of-type {\n",
       "        vertical-align: middle;\n",
       "    }\n",
       "\n",
       "    .dataframe tbody tr th {\n",
       "        vertical-align: top;\n",
       "    }\n",
       "\n",
       "    .dataframe thead th {\n",
       "        text-align: right;\n",
       "    }\n",
       "</style>\n",
       "<table border=\"1\" class=\"dataframe\">\n",
       "  <thead>\n",
       "    <tr style=\"text-align: right;\">\n",
       "      <th></th>\n",
       "      <th>text</th>\n",
       "    </tr>\n",
       "  </thead>\n",
       "  <tbody>\n",
       "    <tr>\n",
       "      <th>8930</th>\n",
       "      <td>Американский миллиардер Уоррен Баффет заявил, что больше не будет предлагать трем крупнейшим страховщикам облигаций перестраховать 800 миллиардов долларов в муниципальных облигациях. Об этом сообщает агентство Reuters. Ранее подобное предложение получили MBIA, Ambac Financial Group и FGIC. В начале февраля 2008 года предложение Уоррена Баффета было воспринято инвесторами с воодушевлением, поскольку они опасались того, что ситуация со страховщиками лишь усугубит положение на кредитных рынках. Однако позже одна из трех страховых компаний от предложения Баффета отказалась, а две другие не дали ответа. Причиной стало то, что перестрахование может стоить на 50 процентов больше, чем компании смогут получить по страховой премии. Ожидаемые убытки, связанные с облигациями, вынудили страховые ко...</td>\n",
       "    </tr>\n",
       "    <tr>\n",
       "      <th>4633</th>\n",
       "      <td>ВВС Украины приняли на вооружение российские модернизированные штурмовики Су-25, говорится в пресс-релизе Министерства обороны Украины. Точное количество принятых на вооружение самолетов не уточняется, однако сообщается, что речь идет об учебно-боевых самолетах Су-25УБМ1 и боевых Су-25М1. По сведениям Министерства обороны Украины, Су-25УБМ1 предназначен для подготовки пилотов в боевых подразделениях. Этот самолет представляет собой модернизированную версию Су-25УБ. В частности, на самолете установлено новое оборудование, которое позволяет повысить точность применения бомб, ракет и пушечного вооружения Су-25УБМ1. Подробности о том, какое именно оборудование было установлено на модернизированные Су-25УБ не приводятся. Тем не менее, известно, что аналогичная аппаратура была установлена и ...</td>\n",
       "    </tr>\n",
       "    <tr>\n",
       "      <th>3581</th>\n",
       "      <td>Международная ассоциация легкоатлетических федераций (IAAF) подала апелляцию на решение Российского антидопингового агентства (РУСАДА) не лишать ходоков Сергея Кирдяпкина и Ольгу Каниськину золотой и серебряной медалей Олимпиады в Лондоне соответственно. Об этом сообщается на официальном сайте РУСАДА. IAAF оспорила вердикт российской организации в Спортивном арбитражном суде. Согласно решению РУСАДА, Кирдяпкин и Каниськина были дисквалифицированы на три года и два месяца каждый за употребление допинга, но при этом не лишены олимпийских наград. Российское антидопинговое агентство 20 января объявило об отстранении от соревнований на разные сроки и об аннулировании результатов за отдельные периоды с 2009 по 2012 год нескольких ходоков — олимпийских чемпионов Каниськиной, Кирдяпкина, Валер...</td>\n",
       "    </tr>\n",
       "    <tr>\n",
       "      <th>7589</th>\n",
       "      <td>Арбитражный суд Башкирии отказал АФК «Система» и «Системе-Инвест» в отмене принятых по просьбе «Роснефти» обеспечительных мер в виде ареста принадлежащих АФК акций трех компаний балансовой стоимостью 185 миллиардов рублей. Об этом сообщает РИА новости. «В удовлетворении заявления АФК \"Система\" и АО \"Система-Инвест\" об отмене обеспечительных мер отказать», — заявила судья Ирина Нурисламова, оглашая определение суда. «Доводы АФК \"Система\" о том, что «действительная стоимость активов \"Системы\" (1,104 миллиарда рублей) более чем 6,5 раза превышает сумму заявленных к ней требований, чего более чем достаточно для исполнения решения суда», основаны на отчетности по МСФО, которая содержит информацию об активах всей группы АФК, включая дочерние и зависимые компании, которые не являются ответчик...</td>\n",
       "    </tr>\n",
       "    <tr>\n",
       "      <th>1757</th>\n",
       "      <td>Семейный скандал в гостиничном номере Лас-Вегаса привел к тому, что одна его участница - телепродюсер Райан Хэддон - оказалась на 24 часа за решеткой, а другой - киноактер Кристиан Слейтер (Christian Slater) - в больнице, где ему на голову пришлось наложить 20 швов. Предполагается, пишет msnbc.com, что во время потасовки в номере Hard Rock hotel-casino  Хэддон разбила о его голову стакан. Других подробностей агентство не сообщает. 34-летний Слейтер известен по таким фильмам-экшн, как \"Сломанная стрела\" и \"3000 миль до Грейсленда\", \"Робин Гуд - Принц воров\" и др. Супруги женаты с февраля 2000 года. Это второй брак актера.</td>\n",
       "    </tr>\n",
       "  </tbody>\n",
       "</table>\n",
       "</div>"
      ],
      "text/plain": [
       "                                                                                                                                                                                                                                                                                                                                                                                                                                                                                                                                                                                                                                                                                                                                                                                                                                 text\n",
       "8930  Американский миллиардер Уоррен Баффет заявил, что больше не будет предлагать трем крупнейшим страховщикам облигаций перестраховать 800 миллиардов долларов в муниципальных облигациях. Об этом сообщает агентство Reuters. Ранее подобное предложение получили MBIA, Ambac Financial Group и FGIC. В начале февраля 2008 года предложение Уоррена Баффета было воспринято инвесторами с воодушевлением, поскольку они опасались того, что ситуация со страховщиками лишь усугубит положение на кредитных рынках. Однако позже одна из трех страховых компаний от предложения Баффета отказалась, а две другие не дали ответа. Причиной стало то, что перестрахование может стоить на 50 процентов больше, чем компании смогут получить по страховой премии. Ожидаемые убытки, связанные с облигациями, вынудили страховые ко...\n",
       "4633  ВВС Украины приняли на вооружение российские модернизированные штурмовики Су-25, говорится в пресс-релизе Министерства обороны Украины. Точное количество принятых на вооружение самолетов не уточняется, однако сообщается, что речь идет об учебно-боевых самолетах Су-25УБМ1 и боевых Су-25М1. По сведениям Министерства обороны Украины, Су-25УБМ1 предназначен для подготовки пилотов в боевых подразделениях. Этот самолет представляет собой модернизированную версию Су-25УБ. В частности, на самолете установлено новое оборудование, которое позволяет повысить точность применения бомб, ракет и пушечного вооружения Су-25УБМ1. Подробности о том, какое именно оборудование было установлено на модернизированные Су-25УБ не приводятся. Тем не менее, известно, что аналогичная аппаратура была установлена и ...\n",
       "3581  Международная ассоциация легкоатлетических федераций (IAAF) подала апелляцию на решение Российского антидопингового агентства (РУСАДА) не лишать ходоков Сергея Кирдяпкина и Ольгу Каниськину золотой и серебряной медалей Олимпиады в Лондоне соответственно. Об этом сообщается на официальном сайте РУСАДА. IAAF оспорила вердикт российской организации в Спортивном арбитражном суде. Согласно решению РУСАДА, Кирдяпкин и Каниськина были дисквалифицированы на три года и два месяца каждый за употребление допинга, но при этом не лишены олимпийских наград. Российское антидопинговое агентство 20 января объявило об отстранении от соревнований на разные сроки и об аннулировании результатов за отдельные периоды с 2009 по 2012 год нескольких ходоков — олимпийских чемпионов Каниськиной, Кирдяпкина, Валер...\n",
       "7589  Арбитражный суд Башкирии отказал АФК «Система» и «Системе-Инвест» в отмене принятых по просьбе «Роснефти» обеспечительных мер в виде ареста принадлежащих АФК акций трех компаний балансовой стоимостью 185 миллиардов рублей. Об этом сообщает РИА новости. «В удовлетворении заявления АФК \"Система\" и АО \"Система-Инвест\" об отмене обеспечительных мер отказать», — заявила судья Ирина Нурисламова, оглашая определение суда. «Доводы АФК \"Система\" о том, что «действительная стоимость активов \"Системы\" (1,104 миллиарда рублей) более чем 6,5 раза превышает сумму заявленных к ней требований, чего более чем достаточно для исполнения решения суда», основаны на отчетности по МСФО, которая содержит информацию об активах всей группы АФК, включая дочерние и зависимые компании, которые не являются ответчик...\n",
       "1757                                                                                                                                                                             Семейный скандал в гостиничном номере Лас-Вегаса привел к тому, что одна его участница - телепродюсер Райан Хэддон - оказалась на 24 часа за решеткой, а другой - киноактер Кристиан Слейтер (Christian Slater) - в больнице, где ему на голову пришлось наложить 20 швов. Предполагается, пишет msnbc.com, что во время потасовки в номере Hard Rock hotel-casino  Хэддон разбила о его голову стакан. Других подробностей агентство не сообщает. 34-летний Слейтер известен по таким фильмам-экшн, как \"Сломанная стрела\" и \"3000 миль до Грейсленда\", \"Робин Гуд - Принц воров\" и др. Супруги женаты с февраля 2000 года. Это второй брак актера."
      ]
     },
     "execution_count": 42,
     "metadata": {},
     "output_type": "execute_result"
    }
   ],
   "source": [
    "import pandas as pd\n",
    "pd.set_option('display.max_columns', None)  \n",
    "pd.set_option('display.expand_frame_repr', False)\n",
    "pd.set_option('max_colwidth', 800)\n",
    "\n",
    "data = pd.read_csv('./data/lenta-ru-partial.csv', usecols=['text'])\n",
    "data.sample(5)"
   ]
  },
  {
   "cell_type": "code",
   "execution_count": 45,
   "metadata": {},
   "outputs": [],
   "source": [
    "m = MorphAnalyzer()\n",
    "\n",
    "# убираем все небуквенные символы\n",
    "regex = re.compile(\"[А-Яа-яA-z]+\")\n",
    "\n",
    "def words_only(text, regex=regex):\n",
    "    try:\n",
    "        return regex.findall(text.lower())\n",
    "    except:\n",
    "        return []"
   ]
  },
  {
   "cell_type": "code",
   "execution_count": 46,
   "metadata": {},
   "outputs": [
    {
     "name": "stdout",
     "output_type": "stream",
     "text": [
      "В южноафриканском Кейптауне победой сборной России завершился чемпионат мира среди бездомных. В финальном матче российские футболисты, впервые в своей истории ставшие чемпионами мира, обыграли команду Казахстана со счетом 1:0, передает BBC News. В первенстве принимали участие почти 500 человек, которые представляли 48 стран мира. Все матчи, каждый из которых продолжался 15 минут, проходили на асфальтовых полях, причем в одной команде могли играть как мужчины, так и женщины. Сборная России провела на турнире 13 матчей, во всех из которых добилась победы. На предыдущих чемпионатах мира достижения российской команды были скромнее: в 2003-м году – 13-е место, в 2004-м году – 5-е место, в 2005-м году – 12-е место.\n"
     ]
    }
   ],
   "source": [
    "print(data.text[0])"
   ]
  },
  {
   "cell_type": "code",
   "execution_count": 47,
   "metadata": {},
   "outputs": [
    {
     "name": "stdout",
     "output_type": "stream",
     "text": [
      "в южноафриканском кейптауне победой сборной россии завершился чемпионат мира среди бездомных в финальном матче российские футболисты впервые в своей истории ставшие чемпионами мира обыграли команду казахстана со счетом передает bbc news в первенстве принимали участие почти человек которые представляли стран мира все матчи каждый из которых продолжался минут проходили на асфальтовых полях причем в одной команде могли играть как мужчины так и женщины сборная россии провела на турнире матчей во всех из которых добилась победы на предыдущих чемпионатах мира достижения российской команды были скромнее в м году е место в м году е место в м году е место\n"
     ]
    }
   ],
   "source": [
    "print(*words_only(data.text[0]))"
   ]
  },
  {
   "cell_type": "markdown",
   "metadata": {},
   "source": [
    "Метод @lru_cashe создает для функции lemmatize кэш указанного размера, что позволяет в целом ускорить лемматизацию текста (что очень полезно, так как лемматизация - ресурсоемкий процесс)."
   ]
  },
  {
   "cell_type": "code",
   "execution_count": 50,
   "metadata": {},
   "outputs": [],
   "source": [
    "\n",
    "def lemmatize_word(token, pymorphy=m):\n",
    "    return pymorphy.parse(token)[0].normal_form\n",
    "\n",
    "def lemmatize_text(text):\n",
    "    return [lemmatize_word(w) for w in text]"
   ]
  },
  {
   "cell_type": "code",
   "execution_count": 51,
   "metadata": {},
   "outputs": [
    {
     "name": "stdout",
     "output_type": "stream",
     "text": [
      "['в', 'южноафриканский', 'кейптаун', 'победа', 'сборный', 'россия', 'завершиться', 'чемпионат', 'мир', 'среди', 'бездомный', 'в', 'финальный', 'матч', 'российский', 'футболист', 'впервые', 'в', 'свой', 'история', 'стать', 'чемпион', 'мир', 'обыграть', 'команда', 'казахстан', 'с', 'счёт', 'передавать', 'bbc', 'news', 'в', 'первенство', 'принимать', 'участие', 'почти', 'человек', 'который', 'представлять', 'страна', 'мир', 'весь', 'матч', 'каждый', 'из', 'который', 'продолжаться', 'минута', 'проходить', 'на', 'асфальтовый', 'поле', 'причём', 'в', 'один', 'команда', 'мочь', 'играть', 'как', 'мужчина', 'так', 'и', 'женщина', 'сборная', 'россия', 'провести', 'на', 'турнир', 'матч', 'в', 'весь', 'из', 'который', 'добиться', 'победа', 'на', 'предыдущий', 'чемпионат', 'мир', 'достижение', 'российский', 'команда', 'быть', 'скромный', 'в', 'метр', 'год', 'е', 'место', 'в', 'метр', 'год', 'е', 'место', 'в', 'метр', 'год', 'е', 'место']\n"
     ]
    }
   ],
   "source": [
    "tokens = words_only(data.text[0])\n",
    "\n",
    "print(lemmatize_text(tokens))"
   ]
  },
  {
   "cell_type": "code",
   "execution_count": 52,
   "metadata": {},
   "outputs": [],
   "source": [
    "mystopwords = stopwords.words('russian') \n",
    "\n",
    "def remove_stopwords(lemmas, stopwords = mystopwords):\n",
    "    return [w for w in lemmas if not w in stopwords]"
   ]
  },
  {
   "cell_type": "code",
   "execution_count": 53,
   "metadata": {},
   "outputs": [
    {
     "name": "stdout",
     "output_type": "stream",
     "text": [
      "южноафриканский кейптаун победа сборный россия завершиться чемпионат мир среди бездомный финальный матч российский футболист впервые свой история стать чемпион мир обыграть команда казахстан счёт передавать bbc news первенство принимать участие человек который представлять страна мир весь матч каждый который продолжаться минута проходить асфальтовый поле причём команда мочь играть мужчина женщина сборная россия провести турнир матч весь который добиться победа предыдущий чемпионат мир достижение российский команда скромный метр год е место метр год е место метр год е место\n"
     ]
    }
   ],
   "source": [
    "lemmas = lemmatize_text(tokens)\n",
    "\n",
    "print(*remove_stopwords(lemmas))"
   ]
  },
  {
   "cell_type": "code",
   "execution_count": 54,
   "metadata": {},
   "outputs": [],
   "source": [
    "def remove_stopwords(lemmas, stopwords = mystopwords):\n",
    "    return [w for w in lemmas if not w in stopwords and len(w) > 3]"
   ]
  },
  {
   "cell_type": "code",
   "execution_count": 55,
   "metadata": {},
   "outputs": [
    {
     "name": "stdout",
     "output_type": "stream",
     "text": [
      "южноафриканский кейптаун победа сборный россия завершиться чемпионат среди бездомный финальный матч российский футболист впервые свой история стать чемпион обыграть команда казахстан счёт передавать news первенство принимать участие человек который представлять страна весь матч каждый который продолжаться минута проходить асфальтовый поле причём команда мочь играть мужчина женщина сборная россия провести турнир матч весь который добиться победа предыдущий чемпионат достижение российский команда скромный метр место метр место метр место\n"
     ]
    }
   ],
   "source": [
    "print(*remove_stopwords(lemmas))"
   ]
  },
  {
   "cell_type": "markdown",
   "metadata": {},
   "source": [
    "Если собрать все в одну функцию:"
   ]
  },
  {
   "cell_type": "code",
   "execution_count": 56,
   "metadata": {},
   "outputs": [],
   "source": [
    "def clean_text(text):\n",
    "    tokens = words_only(text)\n",
    "    lemmas = lemmatize_text(tokens)\n",
    "    \n",
    "    return remove_stopwords(lemmas)"
   ]
  },
  {
   "cell_type": "code",
   "execution_count": 57,
   "metadata": {},
   "outputs": [
    {
     "name": "stdout",
     "output_type": "stream",
     "text": [
      "известный голливудский актёр майкл дуглас совершить неожиданный визит сообщать издание cubadebate цель поездка дуглас уточняться утверждаться лишь актёр посетить несколько памятный место число закусочный floridita который некогда любить бывать эрнест хемингуэй майкл дуглас также осмотреть достопримечательность исторический центр гавана понаблюдать процесс изготовление кубинский сигара табачный фабрика стоить отметить свободный посещение куба американский гражданин иметь родственник остров запретить американец поездка требоваться специальный разрешение государственный департамент получать дуглас разрешение сообщаться напомнить дуглас единственный знаменитый голливудский актёр посетить последний время ранее страна качество корреспондент журнал vanity fair прибыть визит пенна двукратный обладатель премия оскар намереваться взять интервью фидель кастро поездка пенный сопровождать известный филантроп дайана дженкинс\n"
     ]
    }
   ],
   "source": [
    "print(*clean_text(data.text[3]))"
   ]
  },
  {
   "cell_type": "markdown",
   "metadata": {},
   "source": [
    "Если нужно предобработать большой объем текста, помимо кэширования может помочь распараллеливание, например, методом Pool библиотеки multiprocessing:"
   ]
  },
  {
   "cell_type": "code",
   "execution_count": 60,
   "metadata": {},
   "outputs": [
    {
     "name": "stderr",
     "output_type": "stream",
     "text": [
      "/Users/aksenov/opt/anaconda3/lib/python3.7/site-packages/ipykernel_launcher.py:7: TqdmDeprecationWarning: This function will be removed in tqdm==5.0.0\n",
      "Please use `tqdm.notebook.tqdm` instead of `tqdm.tqdm_notebook`\n",
      "  import sys\n"
     ]
    },
    {
     "data": {
      "application/vnd.jupyter.widget-view+json": {
       "model_id": "b23437189cab4859801cf5d76490dcc6",
       "version_major": 2,
       "version_minor": 0
      },
      "text/plain": [
       "HBox(children=(FloatProgress(value=0.0, max=200.0), HTML(value='')))"
      ]
     },
     "metadata": {},
     "output_type": "display_data"
    },
    {
     "name": "stdout",
     "output_type": "stream",
     "text": [
      "\n"
     ]
    }
   ],
   "source": [
    "from multiprocessing import Pool\n",
    "from tqdm import tqdm_notebook as tqdm\n",
    "\n",
    "N = 200\n",
    "\n",
    "with Pool(4) as p:\n",
    "    lemmas = list(tqdm(p.imap(clean_text, data['text'][:N]), total=N))"
   ]
  },
  {
   "cell_type": "code",
   "execution_count": 61,
   "metadata": {},
   "outputs": [
    {
     "name": "stderr",
     "output_type": "stream",
     "text": [
      "/Users/aksenov/opt/anaconda3/lib/python3.7/site-packages/ipykernel_launcher.py:2: SettingWithCopyWarning: \n",
      "A value is trying to be set on a copy of a slice from a DataFrame.\n",
      "Try using .loc[row_indexer,col_indexer] = value instead\n",
      "\n",
      "See the caveats in the documentation: https://pandas.pydata.org/pandas-docs/stable/user_guide/indexing.html#returning-a-view-versus-a-copy\n",
      "  \n"
     ]
    },
    {
     "data": {
      "text/html": [
       "<div>\n",
       "<style scoped>\n",
       "    .dataframe tbody tr th:only-of-type {\n",
       "        vertical-align: middle;\n",
       "    }\n",
       "\n",
       "    .dataframe tbody tr th {\n",
       "        vertical-align: top;\n",
       "    }\n",
       "\n",
       "    .dataframe thead th {\n",
       "        text-align: right;\n",
       "    }\n",
       "</style>\n",
       "<table border=\"1\" class=\"dataframe\">\n",
       "  <thead>\n",
       "    <tr style=\"text-align: right;\">\n",
       "      <th></th>\n",
       "      <th>text</th>\n",
       "      <th>lemmas</th>\n",
       "    </tr>\n",
       "  </thead>\n",
       "  <tbody>\n",
       "    <tr>\n",
       "      <th>19</th>\n",
       "      <td>Предприятия, работающие в арктическом регионе, дают 10 процентов ВВП России. Об этом в четверг, 30 марта, заявил президент Владимир Путин на форуме «Арктика — территория диалога», передает Rambler News Service. «Вряд ли что-то может поменять наши приоритеты в этом регионе. Имею в виду несколько обстоятельств. Первое: уже сегодня 10 процентов ВВП России складывается из результатов работы предприятий, функционирующих в этом регионе. Удельный вес их постоянно растет», — приводит агентство слова главы государства. Президент также назвал еще один фактор, влияющий на развитие арктического региона. «Существенным является следующее обстоятельство: это рост, изменение и повышение эффективности новейших технологий, которые появляются», — добавил президент. Объем экономики по итогам 2016 года сос...</td>\n",
       "      <td>[предприятие, работать, арктический, регион, давать, процент, россия, четверг, март, заявить, президент, владимир, путин, форум, арктика, территория, диалог, передавать, rambler, news, service, вряд, мочь, поменять, приоритет, регион, иметь, несколько, обстоятельство, первое, сегодня, процент, россия, складываться, результат, работа, предприятие, функционировать, регион, удельный, постоянно, расти, приводить, агентство, слово, глава, государство, президент, также, назвать, фактор, влиять, развитие, арктический, регион, существенный, являться, следующий, обстоятельство, рост, изменение, повышение, эффективность, новый, технология, который, появляться, добавить, президент, объесть, экономика, итог, составить, триллион, рубль, согласно, базовый, прогноз, минэкономразвития, увеличиться, пр...</td>\n",
       "    </tr>\n",
       "    <tr>\n",
       "      <th>7</th>\n",
       "      <td>Букмекеры оценили шансы российского биатлониста Антона Шипулина на победу в Кубке мира. Об этом в субботу, 26 ноября, сообщает «Чемпионат.com». На первое место россиянина можно поставить с коэффициентом 11. В то же время главный фаворит соревнований — француз Мартен Фуркад. Вероятность победы спортсмена оценивается коэффициентом 1,30. Шансы норвежца Йоханнеса Бе на «Хрустальный глобус» равны 7,5. Третьим претендентом на титул букмекеры назвали немецкого биатлониста Симона Шемппа. На его победу можно поставить с коэффициентом 8,4. Шансы еще одного россиянина Евгения Гараничева оценены в 71, а его товарища по команде Дмитрия Малышко — в 301. В сезоне 2015/2016 обладателем «Хрустального глобуса» стал Фуркад. Второе место в общем зачете занял Бе, третьим стал Шипулин. Первый этап Кубка мир...</td>\n",
       "      <td>[букмекер, оценить, шанс, российский, биатлонист, антон, шипулина, победа, кубок, суббота, ноябрь, сообщать, чемпионат, первое, место, россиянин, поставить, коэффициент, время, главный, фаворит, соревнование, француз, мартен, фуркад, вероятность, победа, спортсмен, оцениваться, коэффициент, шанс, норвежец, йоханнес, хрустальный, глобус, равный, претендент, титул, букмекер, назвать, немецкий, биатлонист, симон, шемппа, победа, поставить, коэффициент, шанс, россиянин, евгений, гараничев, оценить, товарищ, команда, дмитрия, малышко, сезон, обладатель, хрустальный, глобус, стать, фуркад, место, общий, зачёт, занять, стать, шипулина, этап, кубок, биатлон, сезон, стартовать, воскресение, ноябрь, шведский, эстерсунд, программа, соревнование, войти, смешанный, эстафета, супермикст, индивидуаль...</td>\n",
       "    </tr>\n",
       "    <tr>\n",
       "      <th>155</th>\n",
       "      <td>Неполное страховое покрытие вкладов с высокой доходностью может снизить устойчивость российской банковской системы. К такому выводу пришли эксперты в бюллетене Центра развития Высшей школы экономики (ВШЭ). К числу негативных последствий они также отнесли снижение конкуренции между банками. На минувшей неделе премьер-министр России Дмитрий Медведев поддержал увеличение государственной страховки по вкладам до миллиона рублей. В то же время на страховки по вкладам было предложено наложить ряд ограничений. В частности, ЦБ не исключает введения неполной страховки по высокодоходным вкладам. По мнению экспертов ВШЭ, увеличение максимального страхового покрытия может привести к некоторому перетоку средств населения в те банки, которые предлагают клиентам более выгодные условия обслуживания. \"П...</td>\n",
       "      <td>[неполный, страховой, покрытие, вклад, высокий, доходность, мочь, снизить, устойчивость, российский, банковский, система, вывод, прислать, эксперт, бюллетень, центр, развитие, высокий, школа, экономика, число, негативный, последствие, также, отнести, снижение, конкуренция, банка, минувший, неделя, премьер, министр, россия, дмитрий, медведев, поддержать, увеличение, государственный, страховка, вклад, миллион, рубль, время, страховка, вклад, предложить, наложить, ограничение, частность, исключать, введение, неполный, страховка, высокодоходный, вклад, мнение, эксперт, увеличение, максимальный, страховой, покрытие, мочь, привести, некоторый, переток, средство, население, банка, который, предлагать, клиент, выгодный, условие, обслуживание, поэтому, неудивительно, госбанк, привыкнуть, жить, ...</td>\n",
       "    </tr>\n",
       "  </tbody>\n",
       "</table>\n",
       "</div>"
      ],
      "text/plain": [
       "                                                                                                                                                                                                                                                                                                                                                                                                                                                                                                                                                                                                                                                                                                                                                                                                                                text                                                                                                                                                                                                                                                                                                                                                                                                                                                                                                                                                                                                                                                                                                                                                                                                                           lemmas\n",
       "19   Предприятия, работающие в арктическом регионе, дают 10 процентов ВВП России. Об этом в четверг, 30 марта, заявил президент Владимир Путин на форуме «Арктика — территория диалога», передает Rambler News Service. «Вряд ли что-то может поменять наши приоритеты в этом регионе. Имею в виду несколько обстоятельств. Первое: уже сегодня 10 процентов ВВП России складывается из результатов работы предприятий, функционирующих в этом регионе. Удельный вес их постоянно растет», — приводит агентство слова главы государства. Президент также назвал еще один фактор, влияющий на развитие арктического региона. «Существенным является следующее обстоятельство: это рост, изменение и повышение эффективности новейших технологий, которые появляются», — добавил президент. Объем экономики по итогам 2016 года сос...  [предприятие, работать, арктический, регион, давать, процент, россия, четверг, март, заявить, президент, владимир, путин, форум, арктика, территория, диалог, передавать, rambler, news, service, вряд, мочь, поменять, приоритет, регион, иметь, несколько, обстоятельство, первое, сегодня, процент, россия, складываться, результат, работа, предприятие, функционировать, регион, удельный, постоянно, расти, приводить, агентство, слово, глава, государство, президент, также, назвать, фактор, влиять, развитие, арктический, регион, существенный, являться, следующий, обстоятельство, рост, изменение, повышение, эффективность, новый, технология, который, появляться, добавить, президент, объесть, экономика, итог, составить, триллион, рубль, согласно, базовый, прогноз, минэкономразвития, увеличиться, пр...\n",
       "7    Букмекеры оценили шансы российского биатлониста Антона Шипулина на победу в Кубке мира. Об этом в субботу, 26 ноября, сообщает «Чемпионат.com». На первое место россиянина можно поставить с коэффициентом 11. В то же время главный фаворит соревнований — француз Мартен Фуркад. Вероятность победы спортсмена оценивается коэффициентом 1,30. Шансы норвежца Йоханнеса Бе на «Хрустальный глобус» равны 7,5. Третьим претендентом на титул букмекеры назвали немецкого биатлониста Симона Шемппа. На его победу можно поставить с коэффициентом 8,4. Шансы еще одного россиянина Евгения Гараничева оценены в 71, а его товарища по команде Дмитрия Малышко — в 301. В сезоне 2015/2016 обладателем «Хрустального глобуса» стал Фуркад. Второе место в общем зачете занял Бе, третьим стал Шипулин. Первый этап Кубка мир...  [букмекер, оценить, шанс, российский, биатлонист, антон, шипулина, победа, кубок, суббота, ноябрь, сообщать, чемпионат, первое, место, россиянин, поставить, коэффициент, время, главный, фаворит, соревнование, француз, мартен, фуркад, вероятность, победа, спортсмен, оцениваться, коэффициент, шанс, норвежец, йоханнес, хрустальный, глобус, равный, претендент, титул, букмекер, назвать, немецкий, биатлонист, симон, шемппа, победа, поставить, коэффициент, шанс, россиянин, евгений, гараничев, оценить, товарищ, команда, дмитрия, малышко, сезон, обладатель, хрустальный, глобус, стать, фуркад, место, общий, зачёт, занять, стать, шипулина, этап, кубок, биатлон, сезон, стартовать, воскресение, ноябрь, шведский, эстерсунд, программа, соревнование, войти, смешанный, эстафета, супермикст, индивидуаль...\n",
       "155  Неполное страховое покрытие вкладов с высокой доходностью может снизить устойчивость российской банковской системы. К такому выводу пришли эксперты в бюллетене Центра развития Высшей школы экономики (ВШЭ). К числу негативных последствий они также отнесли снижение конкуренции между банками. На минувшей неделе премьер-министр России Дмитрий Медведев поддержал увеличение государственной страховки по вкладам до миллиона рублей. В то же время на страховки по вкладам было предложено наложить ряд ограничений. В частности, ЦБ не исключает введения неполной страховки по высокодоходным вкладам. По мнению экспертов ВШЭ, увеличение максимального страхового покрытия может привести к некоторому перетоку средств населения в те банки, которые предлагают клиентам более выгодные условия обслуживания. \"П...  [неполный, страховой, покрытие, вклад, высокий, доходность, мочь, снизить, устойчивость, российский, банковский, система, вывод, прислать, эксперт, бюллетень, центр, развитие, высокий, школа, экономика, число, негативный, последствие, также, отнести, снижение, конкуренция, банка, минувший, неделя, премьер, министр, россия, дмитрий, медведев, поддержать, увеличение, государственный, страховка, вклад, миллион, рубль, время, страховка, вклад, предложить, наложить, ограничение, частность, исключать, введение, неполный, страховка, высокодоходный, вклад, мнение, эксперт, увеличение, максимальный, страховой, покрытие, мочь, привести, некоторый, переток, средство, население, банка, который, предлагать, клиент, выгодный, условие, обслуживание, поэтому, неудивительно, госбанк, привыкнуть, жить, ..."
      ]
     },
     "execution_count": 61,
     "metadata": {},
     "output_type": "execute_result"
    }
   ],
   "source": [
    "data = data.head(200)\n",
    "data['lemmas'] = lemmas\n",
    "data.sample(3)"
   ]
  },
  {
   "cell_type": "markdown",
   "metadata": {},
   "source": [
    "### Итого:\n",
    "\n",
    "- посмотрели, как делать все стандартные этапы предобработки текста\n",
    "- научились работать с морфологоческими парсерами"
   ]
  },
  {
   "cell_type": "code",
   "execution_count": null,
   "metadata": {},
   "outputs": [],
   "source": []
  }
 ],
 "metadata": {
  "colab": {
   "name": "1. Intro.ipynb",
   "provenance": []
  },
  "kernelspec": {
   "display_name": "Python 3",
   "language": "python",
   "name": "python3"
  },
  "language_info": {
   "codemirror_mode": {
    "name": "ipython",
    "version": 3
   },
   "file_extension": ".py",
   "mimetype": "text/x-python",
   "name": "python",
   "nbconvert_exporter": "python",
   "pygments_lexer": "ipython3",
   "version": "3.7.6"
  }
 },
 "nbformat": 4,
 "nbformat_minor": 1
}
