{
 "cells": [
  {
   "cell_type": "markdown",
   "metadata": {
    "colab_type": "text",
    "id": "AS1JcenRNX9N"
   },
   "source": [
    "<h1><center>Регулярные выражения</center></h1>\n",
    "\n",
    "\n",
    "\n",
    "**Регулярные выражения** _\\(regular expressions, RegExp\\)_ —  это формальный язык для операций \\(поиск, замена и т.п.\\) с подстроками в тексте. Иными словами, это способ задать некоторый паттерн и найти / заменить на что-либо те кусочки текста, которые с ним совпадают."
   ]
  },
  {
   "cell_type": "markdown",
   "metadata": {
    "colab_type": "text",
    "id": "r5-d2O1RNX9P"
   },
   "source": [
    "Для работы с регулярными выражениями в питоне есть встроенная библиотека `re` (документацию можно почитать [вот здесь](https://docs.python.org/3/library/re.html)). Для работы нужно сначала ее импортировать, как и любую другую библиотеку. Рассмотрим наиболее часто используемые методы:\n",
    "\n",
    "* re.match()\n",
    "* re.search()\n",
    "* re.findall()\n",
    "* re.sub()\n",
    "* re.compile()\n",
    "\n",
    "### re.match()\n",
    "\n",
    "Этот метод ищет по заданному шаблону **только** в начале строки. Например, если мы вызовем метод `match()` на строке \"the cat is on the mat\" с шаблоном \"the\", то он найдет первое \"the\" в строке и завершится успешно. Однако если поискать \"cat\", то результат будет пустой. У этого метода два аргумента:\n",
    "\n",
    "* что найти (шаблон)\n",
    "* где найти (строка)"
   ]
  },
  {
   "cell_type": "code",
   "execution_count": 3,
   "metadata": {
    "colab": {},
    "colab_type": "code",
    "id": "V1MlPvUZNX9Q",
    "outputId": "9b1a1832-0374-4551-e619-493fa982ca9e"
   },
   "outputs": [
    {
     "data": {
      "text/plain": [
       "<re.Match object; span=(0, 3), match='the'>"
      ]
     },
     "execution_count": 3,
     "metadata": {},
     "output_type": "execute_result"
    }
   ],
   "source": [
    "import re\n",
    "\n",
    "re.match('the', 'the cat is on the mat')"
   ]
  },
  {
   "cell_type": "code",
   "execution_count": 4,
   "metadata": {
    "colab": {},
    "colab_type": "code",
    "id": "GntMM8j6NX9X",
    "outputId": "77e6091e-4cbb-456b-96d1-d12322f83452"
   },
   "outputs": [
    {
     "name": "stdout",
     "output_type": "stream",
     "text": [
      "None\n"
     ]
    }
   ],
   "source": [
    "print(re.match('cat', 'the cat is on the mat'))"
   ]
  },
  {
   "cell_type": "markdown",
   "metadata": {},
   "source": [
    "Теперь попробуем искать нечетким поиском, с использованием регулярного выражения, и для этого нам понадобятся диапазоны:\n",
    "\n",
    "* **\\[A-Z\\]** — _один любой_ символ верхнего регистра \\(латиница\\)\n",
    "* **\\[a-z\\]** — _один любой_ символ нижнего регистра \\(латиница\\)\n",
    "* **\\[А-Я\\]** — _один любой_ символ верхнего регистра \\(кириллица\\)\n",
    "* **\\[а-я\\]** — _один любой_ символ нижнего регистра \\(кириллица\\)\n",
    "* **\\[0-9\\]** или **\\d** — одна цифра\n",
    "\n",
    "^ в начале диапазона означает отрицание, то есть, любой символ, не входящий в этот диапазон:\n",
    "* **\\[^0-9\\]** или **\\D** — _один любой_ символ, кроме цифры\n",
    "\n",
    "А еще есть служебный символ точка **.** — означает \"любой символ\"."
   ]
  },
  {
   "cell_type": "code",
   "execution_count": 5,
   "metadata": {},
   "outputs": [
    {
     "data": {
      "text/plain": [
       "<re.Match object; span=(0, 1), match='t'>"
      ]
     },
     "execution_count": 5,
     "metadata": {},
     "output_type": "execute_result"
    }
   ],
   "source": [
    "re.match('[a-z]', 'the cat is on the mat')"
   ]
  },
  {
   "cell_type": "code",
   "execution_count": 6,
   "metadata": {},
   "outputs": [],
   "source": [
    "re.match('[0-9]', 'the cat is on the mat')"
   ]
  },
  {
   "cell_type": "code",
   "execution_count": 7,
   "metadata": {},
   "outputs": [
    {
     "data": {
      "text/plain": [
       "<re.Match object; span=(0, 1), match='t'>"
      ]
     },
     "execution_count": 7,
     "metadata": {},
     "output_type": "execute_result"
    }
   ],
   "source": [
    "re.match('.', 'the cat is on the mat')"
   ]
  },
  {
   "cell_type": "code",
   "execution_count": 8,
   "metadata": {},
   "outputs": [
    {
     "data": {
      "text/plain": [
       "<re.Match object; span=(0, 1), match=' '>"
      ]
     },
     "execution_count": 8,
     "metadata": {},
     "output_type": "execute_result"
    }
   ],
   "source": [
    "re.match('.', ' the cat is on the mat')"
   ]
  },
  {
   "cell_type": "markdown",
   "metadata": {},
   "source": [
    "Диапазоны можно комбинировать:\n",
    "\n",
    "* **\\[A-Za-z\\]** — _один любой_ символ верхнего и нижнего регистра \\(латиница\\)\n",
    "* **\\[A-Za-z0-9\\]** — _один любой_ символ верхнего и нижнего регистра \\(латиница\\) и цифры\n",
    "* **\\[A-Za-z0-9\\_\\]** или **\\w** — _один любой_ символ верхнего и нижнего регистра \\(латиница\\), цифры и \\_\n",
    "* **\\[^A-Za-z0-9\\_\\]** или **\\W** — все, кроме символов верхнего и нижнего регистра \\(латиница\\), цифр и \\_\n",
    "* Можно выбрать нужный диапазон из [юникодной таблицы](https://unicode-table.com/ru/) самостоятельно — например, **[à-ÿ]** "
   ]
  },
  {
   "cell_type": "code",
   "execution_count": 42,
   "metadata": {},
   "outputs": [
    {
     "data": {
      "text/plain": [
       "(<re.Match object; span=(0, 1), match='З'>,\n",
       " <re.Match object; span=(0, 1), match='б'>)"
      ]
     },
     "execution_count": 42,
     "metadata": {},
     "output_type": "execute_result"
    }
   ],
   "source": [
    "re.match('[А-Яа-я]', 'Заглавные буквы'), re.match('[А-Яа-я]', 'без заглавных букв')"
   ]
  },
  {
   "cell_type": "markdown",
   "metadata": {
    "colab_type": "text",
    "id": "Oa0utnSyNX9a"
   },
   "source": [
    "### re.search()\n",
    "\n",
    "Этот метод, в отличие от предыдущего, ищет заданный шаблон в **любом** месте строки, но возвращает только первое найденное совпадение. Аргументы те же."
   ]
  },
  {
   "cell_type": "code",
   "execution_count": 10,
   "metadata": {
    "colab": {},
    "colab_type": "code",
    "id": "Y22ZKbHPNX9b",
    "outputId": "d5837b4f-67b3-451d-9ea9-b0c5becbd30d"
   },
   "outputs": [
    {
     "data": {
      "text/plain": [
       "<_sre.SRE_Match object; span=(0, 3), match='the'>"
      ]
     },
     "execution_count": 10,
     "metadata": {},
     "output_type": "execute_result"
    }
   ],
   "source": [
    "re.search('the', 'the cat is on the mat')"
   ]
  },
  {
   "cell_type": "code",
   "execution_count": 11,
   "metadata": {
    "colab": {},
    "colab_type": "code",
    "id": "zX55Bm2JNX9f",
    "outputId": "cba27cb0-6567-4857-e560-ebb54076caa0"
   },
   "outputs": [
    {
     "data": {
      "text/plain": [
       "<_sre.SRE_Match object; span=(4, 7), match='cat'>"
      ]
     },
     "execution_count": 11,
     "metadata": {},
     "output_type": "execute_result"
    }
   ],
   "source": [
    "re.search('cat', 'the cat is on the mat')"
   ]
  },
  {
   "cell_type": "markdown",
   "metadata": {
    "colab_type": "text",
    "id": "SOAqcU5iNX9j"
   },
   "source": [
    "А как вывести не объект, а саму строку, которая нашлась по шаблону? "
   ]
  },
  {
   "cell_type": "code",
   "execution_count": 45,
   "metadata": {
    "colab": {},
    "colab_type": "code",
    "id": "b_H3J21HNX9x",
    "outputId": "2f5a27b9-e05f-4437-ca28-301eec063502"
   },
   "outputs": [
    {
     "data": {
      "text/plain": [
       "'cat'"
      ]
     },
     "execution_count": 45,
     "metadata": {},
     "output_type": "execute_result"
    }
   ],
   "source": [
    "re.search('cat', 'the cat is on the mat')[0]"
   ]
  },
  {
   "cell_type": "code",
   "execution_count": 47,
   "metadata": {},
   "outputs": [
    {
     "data": {
      "text/plain": [
       "'The'"
      ]
     },
     "execution_count": 47,
     "metadata": {},
     "output_type": "execute_result"
    }
   ],
   "source": [
    "re.search('[A-Za-z]+', 'The cat is on the mat')[0]"
   ]
  },
  {
   "cell_type": "markdown",
   "metadata": {
    "colab_type": "text",
    "id": "X43drYg4NX90"
   },
   "source": [
    "### re.findall()\n",
    "\n",
    "Этот метод возвращает список **всех** найденных совпадений в любом месте строки. Аргументы у него те же,  что и у предыдущих двух методов, а возвращает он список совпадений."
   ]
  },
  {
   "cell_type": "code",
   "execution_count": 16,
   "metadata": {
    "colab": {},
    "colab_type": "code",
    "id": "Nsrm_qxXNX91",
    "outputId": "7f2a4512-8aba-4df4-9f41-a3f9627cbaef"
   },
   "outputs": [
    {
     "data": {
      "text/plain": [
       "['the', 'the']"
      ]
     },
     "execution_count": 16,
     "metadata": {},
     "output_type": "execute_result"
    }
   ],
   "source": [
    "re.findall('the', 'the cat is on the mat')"
   ]
  },
  {
   "cell_type": "code",
   "execution_count": 51,
   "metadata": {
    "colab": {},
    "colab_type": "code",
    "id": "TJNtdkmyNX93",
    "outputId": "a6fb5acf-822b-43c6-9eb5-99985c62cef4"
   },
   "outputs": [
    {
     "data": {
      "text/plain": [
       "'the'"
      ]
     },
     "execution_count": 51,
     "metadata": {},
     "output_type": "execute_result"
    }
   ],
   "source": [
    "re.findall('the', 'the cat is on the mat')[1]"
   ]
  },
  {
   "cell_type": "markdown",
   "metadata": {},
   "source": [
    "Кроме того, можно задавать длину строки, которую мы ищем:\n",
    "\n",
    "###### Количественные операторы \\(квантификаторы\\)\n",
    "\n",
    "* **?** — предыдущий символ/группа может быть, а может не быть\n",
    "* **+** — предыдущий символ/группа может повторяться 1 и более раз\n",
    "* **\\*** — предыдущий символ/группа может повторяться 0 и более раз\n",
    "* **{n,m}** — предыдущий символ/группа может повторяться от от n до m включительно\n",
    "* **{n,}** — предыдущий символ/группа в скобках может повторяться n и более раз \n",
    "* **{,m**} — предыдущий символ/группа может повторяться до m раз\n",
    "* **{n}** — предыдущий символ/группа повторяется n раз\n",
    "\n",
    "**NB!** Внутри \\[ \\] не работают _операторы_ __.__ __\\\\__ __\\*__ __+__ и т.д."
   ]
  },
  {
   "cell_type": "code",
   "execution_count": 18,
   "metadata": {},
   "outputs": [
    {
     "data": {
      "text/plain": [
       "['the', 'cat', 'is', 'on', 'the', 'mat']"
      ]
     },
     "execution_count": 18,
     "metadata": {},
     "output_type": "execute_result"
    }
   ],
   "source": [
    "re.findall('[a-z]+', 'the cat is on the mat')"
   ]
  },
  {
   "cell_type": "code",
   "execution_count": 19,
   "metadata": {},
   "outputs": [
    {
     "data": {
      "text/plain": [
       "['the', 'cat', 'the', 'mat']"
      ]
     },
     "execution_count": 19,
     "metadata": {},
     "output_type": "execute_result"
    }
   ],
   "source": [
    "re.findall('[a-z]{3}', 'the cat is on the mat')"
   ]
  },
  {
   "cell_type": "code",
   "execution_count": 4,
   "metadata": {},
   "outputs": [
    {
     "data": {
      "text/plain": [
       "['the', '', 'cat', '', 'is', '', 'on', '', 'the', '', 'mat', '']"
      ]
     },
     "execution_count": 4,
     "metadata": {},
     "output_type": "execute_result"
    }
   ],
   "source": [
    "re.findall('[a-z]*', 'the cat is on the mat')"
   ]
  },
  {
   "cell_type": "code",
   "execution_count": 5,
   "metadata": {},
   "outputs": [
    {
     "data": {
      "text/plain": [
       "['t',\n",
       " 'h',\n",
       " 'e',\n",
       " '',\n",
       " 'c',\n",
       " 'a',\n",
       " 't',\n",
       " '',\n",
       " 'i',\n",
       " 's',\n",
       " '',\n",
       " 'o',\n",
       " 'n',\n",
       " '',\n",
       " 't',\n",
       " 'h',\n",
       " 'e',\n",
       " '',\n",
       " 'm',\n",
       " 'a',\n",
       " 't',\n",
       " '']"
      ]
     },
     "execution_count": 5,
     "metadata": {},
     "output_type": "execute_result"
    }
   ],
   "source": [
    "re.findall('[a-z]?', 'the cat is on the mat')"
   ]
  },
  {
   "cell_type": "markdown",
   "metadata": {},
   "source": [
    "###### \"Жадные\" и \"ленивые\" операторы\n",
    "\n",
    "Квантификаторы по умолчанию ведут себя жадно: это значит, что они стремятся \"съесть\" как можно больше символов и из всех возможных вариантов они поймают наиболее длинную строку. Например, мы хотим найти в строке _кот выпил компот_ слова \"кот\" и \"компот\" и пишем такое выражение: **к.\\*от** \\(читается как \"к, любой символ в количестве от 0 до бесконечности, от\"\\), где __.\\*__ — любое количество любых символов. Однако такое выражение выдаст даст следующий результат:\n"
   ]
  },
  {
   "cell_type": "code",
   "execution_count": 22,
   "metadata": {},
   "outputs": [
    {
     "data": {
      "text/plain": [
       "['кот выпил компот']"
      ]
     },
     "execution_count": 22,
     "metadata": {},
     "output_type": "execute_result"
    }
   ],
   "source": [
    "s = 'кот выпил компот'\n",
    "re.findall('к.*от', s)"
   ]
  },
  {
   "cell_type": "markdown",
   "metadata": {},
   "source": [
    "Максимальное количество символов между \"к\" и \"от\" в этой строке — 13, _\"от выпил компо\"_, и наш жадный оператор поймал именно его. Чтобы найти более короткие совпадения, т.е. отдельно \"кот\" и \"компот\", нужно превратить **жадный оператор** в **ленивый**, поставив после него знак \"?\". "
   ]
  },
  {
   "cell_type": "code",
   "execution_count": 23,
   "metadata": {},
   "outputs": [
    {
     "data": {
      "text/plain": [
       "['кот', 'компот']"
      ]
     },
     "execution_count": 23,
     "metadata": {},
     "output_type": "execute_result"
    }
   ],
   "source": [
    "s = 'кот выпил компот'\n",
    "re.findall('к.*?от', s)"
   ]
  },
  {
   "cell_type": "markdown",
   "metadata": {},
   "source": [
    "Это работает со всеми квантификаторами.\n",
    "\n",
    "| Жадные квантификаторы | Ленивые квантификаторы |\n",
    "| :--- | :--- |\n",
    "| \\* | \\*? |\n",
    "| + | +? |\n",
    "| {min, max} | {min, max}? |"
   ]
  },
  {
   "cell_type": "markdown",
   "metadata": {},
   "source": [
    "###### Экранирование служебных символов\n",
    "\n",
    "Вы уже заметили, что как и любой язык, регулярные выражения записываются с помощью особого алфавита - точек, звездочек, скобочек и т.д. Но что делать, если нужно найти служебные символы вроде + или \\* в тексте? Все просто: нужно **экранировать** их, т.е. поставить перед ними __\\\\__. В этом примере мы экранируем \\*, чтобы сделать ее из служебного символа текстовым, а вот + так и остался служебным и означает \"один и более раз\".\n",
    "\n",
    "Давайте попробуем поискать смайлики в тексте:"
   ]
  },
  {
   "cell_type": "code",
   "execution_count": 29,
   "metadata": {},
   "outputs": [
    {
     "data": {
      "text/plain": [
       "[':)']"
      ]
     },
     "execution_count": 29,
     "metadata": {},
     "output_type": "execute_result"
    }
   ],
   "source": [
    "tweet = 'всем хорошего дня :)'\n",
    "re.findall('[:\\)\\(]+', tweet)"
   ]
  },
  {
   "cell_type": "markdown",
   "metadata": {},
   "source": [
    "Или все знаки препинания: "
   ]
  },
  {
   "cell_type": "code",
   "execution_count": 30,
   "metadata": {},
   "outputs": [
    {
     "data": {
      "text/plain": [
       "['-', ',', '.', '.', '.']"
      ]
     },
     "execution_count": 30,
     "metadata": {},
     "output_type": "execute_result"
    }
   ],
   "source": [
    "tweet = 'Дождь - это прекрасно, в дожде можно спрятать слезы...'\n",
    "re.findall('[\\-\\.!?:;,]|[.]+', tweet)"
   ]
  },
  {
   "cell_type": "markdown",
   "metadata": {},
   "source": [
    "Тут мы использовали еще один символ регулярных выражений  **|** - это **или**."
   ]
  },
  {
   "cell_type": "code",
   "execution_count": 31,
   "metadata": {},
   "outputs": [
    {
     "data": {
      "text/plain": [
       "['-', ',', '...']"
      ]
     },
     "execution_count": 31,
     "metadata": {},
     "output_type": "execute_result"
    }
   ],
   "source": [
    "tweet = 'Дождь - это прекрасно, в дожде можно спрятать слезы...'\n",
    "re.findall('[.]+|[\\-\\.!?:;,]', tweet)"
   ]
  },
  {
   "cell_type": "markdown",
   "metadata": {},
   "source": [
    "Обратите внимание на троеточие в этом примере!\n",
    "\n",
    "Поищем формулы в тексте:"
   ]
  },
  {
   "cell_type": "code",
   "execution_count": 40,
   "metadata": {},
   "outputs": [
    {
     "data": {
      "text/plain": [
       "[' (a+b)^2 = a^2 + 2*a*b + b^2']"
      ]
     },
     "execution_count": 40,
     "metadata": {},
     "output_type": "execute_result"
    }
   ],
   "source": [
    "tweet = 'Формула всем известная: (a+b)^2 = a^2 + 2*a*b + b^2'\n",
    "re.findall('[\\^\\+\\(\\)=\\-\\* 0-9a-z]{2,}', tweet)"
   ]
  },
  {
   "cell_type": "markdown",
   "metadata": {
    "colab_type": "text",
    "id": "jhCMW2SUNX96"
   },
   "source": [
    "### re.sub()\n",
    "\n",
    "Этот метод ищет шаблон в строке и заменяет его на указанную подстрок. Если шаблон не найден, строка остается неизменной. Соответствено, в отличие от предыдущих методов, у него 3 аргумента:\n",
    "* что заменить\n",
    "* на что заменить\n",
    "* где заменить\n",
    "\n",
    "Заменяются все подстроки, которые нашлись по шаблону."
   ]
  },
  {
   "cell_type": "code",
   "execution_count": 20,
   "metadata": {
    "colab": {},
    "colab_type": "code",
    "id": "SjF16uZINX97",
    "outputId": "48f47ce9-d4a2-468a-861c-1efd852b8872"
   },
   "outputs": [
    {
     "data": {
      "text/plain": [
       "'my cat is on my mat'"
      ]
     },
     "execution_count": 20,
     "metadata": {},
     "output_type": "execute_result"
    }
   ],
   "source": [
    "re.sub('the', 'my', 'the cat is on the mat')"
   ]
  },
  {
   "cell_type": "markdown",
   "metadata": {},
   "source": [
    "В синтаксисе регулярных выражений есть основные служебные символы:\n",
    "\n",
    "* **\\t** — табуляция\n",
    "* **\\s** — любой пробельный символ\n",
    "* **\\S** — все, кроме пробелов\n",
    "* **\\n** — перенос строки\n",
    "* **^** — начало строки\n",
    "* **$** — конец строки\n",
    "\n",
    "Давайте, например, уберем все лишние пробелы из строки:"
   ]
  },
  {
   "cell_type": "code",
   "execution_count": 23,
   "metadata": {},
   "outputs": [
    {
     "data": {
      "text/plain": [
       "'а я иду шагаю по Москве '"
      ]
     },
     "execution_count": 23,
     "metadata": {},
     "output_type": "execute_result"
    }
   ],
   "source": [
    "s  = 'а  я иду,     шагаю   по   Москве '\n",
    "re.sub(' +', ' ', s)"
   ]
  },
  {
   "cell_type": "markdown",
   "metadata": {},
   "source": [
    "Или приведем отрывок пьесы к удобочитаемому виду:"
   ]
  },
  {
   "cell_type": "code",
   "execution_count": 27,
   "metadata": {},
   "outputs": [
    {
     "name": "stdout",
     "output_type": "stream",
     "text": [
      "\n",
      "Дездемона: \n",
      "\n",
      "Кто здесь? Отелло, ты?\n",
      "\n",
      "Отелло: \n",
      "\n",
      "Я, Дездемона. \n",
      "\n",
      "Дездемона: \n",
      "\n",
      "Что ж не идешь ложиться ты, мой друг?\n",
      "\n",
      "Отелло:\n",
      "\n",
      "Молилась ли ты на ночь, Дездемона?\n",
      "\n",
      "Дездемона:\n",
      "\n",
      "Да, милый мой.\n",
      "\n",
      "\n"
     ]
    }
   ],
   "source": [
    "s = '''\n",
    "Дездемона: \n",
    "\n",
    "Кто здесь? Отелло, ты?\n",
    "\n",
    "Отелло: \n",
    "\n",
    "Я, Дездемона. \n",
    "\n",
    "Дездемона: \n",
    "\n",
    "Что ж не идешь ложиться ты, мой друг?\n",
    "\n",
    "Отелло:\n",
    "\n",
    "Молилась ли ты на ночь, Дездемона?\n",
    "\n",
    "Дездемона:\n",
    "\n",
    "Да, милый мой.\n",
    "\n",
    "'''\n",
    "print(s)"
   ]
  },
  {
   "cell_type": "code",
   "execution_count": 28,
   "metadata": {},
   "outputs": [
    {
     "name": "stdout",
     "output_type": "stream",
     "text": [
      "\n",
      "Дездемона: \n",
      "Кто здесь? Отелло, ты?\n",
      "Отелло: \n",
      "Я, Дездемона. \n",
      "Дездемона: \n",
      "Что ж не идешь ложиться ты, мой друг?\n",
      "Отелло:\n",
      "Молилась ли ты на ночь, Дездемона?\n",
      "Дездемона:\n",
      "Да, милый мой.\n",
      "\n"
     ]
    }
   ],
   "source": [
    "s = re.sub('\\n+', '\\n', s)\n",
    "print(s)"
   ]
  },
  {
   "cell_type": "code",
   "execution_count": 37,
   "metadata": {},
   "outputs": [
    {
     "name": "stdout",
     "output_type": "stream",
     "text": [
      "\n",
      "Дездемона: Кто здесь? Отелло, ты?\n",
      "Отелло: Я, Дездемона. \n",
      "Дездемона: Что ж не идешь ложиться ты, мой друг?\n",
      "Отелло: Молилась ли ты на ночь, Дездемона?\n",
      "Дездемона: Да, милый мой.\n",
      "\n"
     ]
    }
   ],
   "source": [
    "s = re.sub(':[ \\n]+', ': ', s)\n",
    "print(s)"
   ]
  },
  {
   "cell_type": "markdown",
   "metadata": {
    "colab_type": "text",
    "id": "JMeHZr5gNX9-"
   },
   "source": [
    "###  re.compile()\n",
    "\n",
    "Мы можем собрать регулярное выражение в отдельный объект. Это полезно, когда нам нужно много раз использовать один и тот же паттерн: во-первых, не придется каждый раз переписывать одно и то же выражение, а во вторых, так программа будет работать быстрее! "
   ]
  },
  {
   "cell_type": "code",
   "execution_count": 21,
   "metadata": {
    "colab": {},
    "colab_type": "code",
    "id": "GyFyR5UANX9-",
    "outputId": "fe460c25-5dc9-4210-f0c7-21c4ea248648"
   },
   "outputs": [
    {
     "name": "stdout",
     "output_type": "stream",
     "text": [
      "cat\n",
      "['cat', 'cat', 'cat']\n",
      "the dog is on the mat\n"
     ]
    }
   ],
   "source": [
    "# компилируем регулярное выражение для поиска котиков\n",
    "cats = re.compile('cat')\n",
    "\n",
    "# а теперь можно использовать эту переменную вместо re с любым из методов\n",
    "# но во всех будет на один аргумент (\"что искать/заменять\") меньше \n",
    "print(cats.search('the cat is on the mat').group(0))\n",
    "print(cats.findall('my cat is black, my cat is fat, my cat likes rats, rats are gray and fat'))\n",
    "print(cats.sub('dog', 'the cat is on the mat'))"
   ]
  },
  {
   "cell_type": "markdown",
   "metadata": {
    "colab_type": "text",
    "id": "Zq471_6fNX-G"
   },
   "source": [
    "## А теперь в бой!"
   ]
  },
  {
   "cell_type": "markdown",
   "metadata": {},
   "source": [
    "Напишем регулярное выражение для поиска названия вулкана Eyjafjallajökull на русском. \n",
    "\n",
    "Варианты написания: \n",
    "Эйяфьядлайёкудль, \n",
    "Эяфьядлайёкудль, \n",
    "Эйяфьятлайёкудль, \n",
    "Эйяфьядлайёкутль, Эйяфьядлайёкюдль, Эяфьядлайокудль, Эйяфьядлаёкудль, Эяфьядлаёкудль,\n",
    "Эйяфьядлаёкутль, Эяфьядлайёкюдль."
   ]
  },
  {
   "cell_type": "code",
   "execution_count": 56,
   "metadata": {},
   "outputs": [
    {
     "data": {
      "text/plain": [
       "10"
      ]
     },
     "execution_count": 56,
     "metadata": {},
     "output_type": "execute_result"
    }
   ],
   "source": [
    "s = '''\n",
    "Эйяфьядлайёкудль, Эяфьядлайёкудль, Эйяфьятлайёкудль, Эйяфьядлайёкутль, Эйяфьядлайёкюдль, Эяфьядлайокудль, Эйяфьядлаёкудль, Эяфьядлаёкудль,\n",
    "Эйяфьядлаёкутль, Эяфьядлайёкюдль.\n",
    "'''\n",
    "len(s.split(','))"
   ]
  },
  {
   "cell_type": "code",
   "execution_count": 78,
   "metadata": {},
   "outputs": [
    {
     "data": {
      "text/plain": [
       "['Эйяфьядлайёкудль',\n",
       " 'Эяфьядлайёкудль',\n",
       " 'Эйяфьятлайёкудль',\n",
       " 'Эйяфьядлайёкутль',\n",
       " 'Эйяфьядлайёкюдль',\n",
       " 'Эяфьядлайокудль',\n",
       " 'Эйяфьядлаёкудль',\n",
       " 'Эяфьядлаёкудль',\n",
       " 'Эйяфьядлаёкутль',\n",
       " 'Эяфьядлайёкюдль']"
      ]
     },
     "execution_count": 78,
     "metadata": {},
     "output_type": "execute_result"
    }
   ],
   "source": [
    "volcano = re.compile('Эй?яфья[д|т]ла.*?ль')\n",
    "res = volcano.findall(s)\n",
    "res"
   ]
  },
  {
   "cell_type": "code",
   "execution_count": 79,
   "metadata": {},
   "outputs": [
    {
     "data": {
      "text/plain": [
       "10"
      ]
     },
     "execution_count": 79,
     "metadata": {},
     "output_type": "execute_result"
    }
   ],
   "source": [
    "len(res)"
   ]
  },
  {
   "cell_type": "markdown",
   "metadata": {},
   "source": [
    "Напишем регулярные выражения для поиска e-mail'ов и телефонов:"
   ]
  },
  {
   "cell_type": "code",
   "execution_count": 106,
   "metadata": {},
   "outputs": [
    {
     "name": "stdout",
     "output_type": "stream",
     "text": [
      "ИНСТРУКЦИЯ ПО ОФОРМЛЕНИЮ ЦИФРОВОГО ПРОПУСКА\n",
      "\n",
      "Технические вопросы\n",
      "Как заказать пропуск в Москву при условии, что на даче интернет работает плохо? При звонке по номеру телефона: +7 (495) 777-7777 приходится очень долго ждать.\n",
      "В связи с большим количеством звонков время ожидания по номеру телефона: 8-495-777-77-77 может достигать нескольких минут. Кроме того, вы можете воспользоваться возможностью получить пропуск по СМС на короткий номер 7377.\n",
      "\n",
      "Списываются ли деньги при отправке СМС для получения пропуска?\n",
      "Нет. За СМС средства не списывают. \n",
      "\n",
      "Что делать если сайт не доступен, а при звонке на телефон: 84957777777 сеть занята?\n",
      "Обратиться на почту по адресу gosuslugi@mail.ru\n",
      "\n",
      "\n",
      "Как заказать оформленный пропуск на электронную почту через СМС?\n",
      "Для этого нужно отправить цель получения пропуска (в кавычках) и через пробел почту, например,\n",
      "\"для поездок на работу\", golikova_t67@gmail.com\n",
      "\"для иных целей\", natysik@ya.ru\n",
      "\n",
      "По любым вопросам пишите на круглосуточную линию поддержки support24@mos.ru.\n"
     ]
    }
   ],
   "source": [
    "with open ('./data/instruction.txt', 'r') as f:\n",
    "    text = f.read()\n",
    "    \n",
    "print(text)"
   ]
  },
  {
   "cell_type": "code",
   "execution_count": 104,
   "metadata": {},
   "outputs": [
    {
     "data": {
      "text/plain": [
       "['gosuslugi@mail.ru',\n",
       " 'golikova_t67@gmail.com',\n",
       " 'natysik@ya.ru',\n",
       " 'support24@mos.ru']"
      ]
     },
     "execution_count": 104,
     "metadata": {},
     "output_type": "execute_result"
    }
   ],
   "source": [
    "mails = re.compile('[A-Za-z0-9_]+@[a-z]+\\.ru|[A-Za-z0-9_]+@[a-z]+\\.com')\n",
    "mails.findall(text)"
   ]
  },
  {
   "cell_type": "code",
   "execution_count": 105,
   "metadata": {},
   "outputs": [
    {
     "data": {
      "text/plain": [
       "['+7 (495) 777-777', '8-495-777-77-77', '84957777777 ']"
      ]
     },
     "execution_count": 105,
     "metadata": {},
     "output_type": "execute_result"
    }
   ],
   "source": [
    "phones = re.compile('\\+?[78][\\(\\) \\-0-9]{10,14}')\n",
    "phones.findall(text)"
   ]
  },
  {
   "cell_type": "markdown",
   "metadata": {},
   "source": [
    "### Итого:\n",
    "\n",
    "Научились использовать регулярные выражения для поиска и замен в тексте."
   ]
  }
 ],
 "metadata": {
  "colab": {
   "name": "1. Regex in Python.ipynb",
   "provenance": []
  },
  "kernelspec": {
   "display_name": "Python 3",
   "language": "python",
   "name": "python3"
  },
  "language_info": {
   "codemirror_mode": {
    "name": "ipython",
    "version": 3
   },
   "file_extension": ".py",
   "mimetype": "text/x-python",
   "name": "python",
   "nbconvert_exporter": "python",
   "pygments_lexer": "ipython3",
   "version": "3.7.6"
  }
 },
 "nbformat": 4,
 "nbformat_minor": 1
}
